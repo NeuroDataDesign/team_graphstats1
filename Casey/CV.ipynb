{
  "nbformat": 4,
  "nbformat_minor": 0,
  "metadata": {
    "colab": {
      "name": "CV.ipynb",
      "provenance": [],
      "collapsed_sections": []
    },
    "kernelspec": {
      "name": "python3",
      "display_name": "Python 3"
    }
  },
  "cells": [
    {
      "cell_type": "code",
      "metadata": {
        "id": "ry3hxetCsPrS",
        "colab_type": "code",
        "colab": {}
      },
      "source": [
        "# Beginning of Cross Validation\n",
        "from sklearn.model_selection import KFold\n",
        "\n",
        "def cross_validation_function(X, Y, parameters_grid, methodname = \"\", \n",
        "                              train_classifier, test_classifier,\n",
        "                              algorithm_parameters = \"\",\n",
        "                              folds = 5, fold_list = NULL, \n",
        "                              parallel = F, num_clusters = 5, windows = F, \n",
        "                              nested_cv = F, save_files = F, filename = \"\", sparsity_results=F) {\n",
        "  \n",
        "    kf = KFold(n_splits=folds, shuffle=True)\n",
        "    kf.get_n_splits(train_classifier)\n",
        "    for train_index, test_index in kf.split(train_classifier):\n",
        "      x_train, x_test = train_classifier.iloc[train_index], train_classifier.iloc[test_index]\n",
        "      y_train, y_test = train_set_labels.iloc[train_index], train_set_labels[test_index]\n",
        "      fit = lm.SGDClassifier(loss='log',penalty='l1',alpha=i,shuffle=True).fit(x_train, y_train)\n",
        "      probs = fit.decision_function(x)    \n",
        "\n",
        "# Going to implement ability for parallel processing later"
      ],
      "execution_count": 0,
      "outputs": []
    }
  ]
}
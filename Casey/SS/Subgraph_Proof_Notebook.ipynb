{
 "cells": [
  {
   "cell_type": "markdown",
   "metadata": {},
   "source": [
    "# Signal Subgraph Proof Notebook"
   ]
  },
  {
   "cell_type": "code",
   "execution_count": 1,
   "metadata": {},
   "outputs": [
    {
     "name": "stderr",
     "output_type": "stream",
     "text": [
      "/usr/local/lib/python3.6/dist-packages/numba-0.46.0-py3.6-linux-x86_64.egg/numba/errors.py:137: UserWarning: Insufficiently recent colorama version found. Numba requires colorama >= 0.3.9\n",
      "  warnings.warn(msg)\n"
     ]
    }
   ],
   "source": [
    "import numpy as np\n",
    "import matplotlib.pyplot as plt\n",
    "import sklearn.metrics as metrics\n",
    "import random\n",
    "\n",
    "import graspy\n",
    "\n",
    "from graspy.subgraph import NonItScreen\n",
    "from graspy.subgraph import ItScreen\n",
    "\n",
    "# Screening\n",
    "screen_MGC = NonItScreen(\"mgc\", 0)\n",
    "screen_ItMGC50 = ItScreen(\"mgc\", 0.50, 20)\n",
    "screen_ItMGC05 = ItScreen(\"mgc\", 0.05, 20)\n",
    "\n",
    "screen_DCORR = NonItScreen(\"dcorr\", 0)\n",
    "screen_ItDCORR50 = ItScreen(\"dcorr\", 0.50, 20)\n",
    "screen_ItDCORR05 = ItScreen(\"dcorr\", 0.05, 20)\n",
    "\n",
    "screen_RV = NonItScreen(\"rv\", 0)\n",
    "\n",
    "screen_CCA = NonItScreen(\"cca\", 0)"
   ]
  },
  {
   "cell_type": "markdown",
   "metadata": {},
   "source": [
    "# Accuracy Matching [Paper](https://arxiv.org/abs/1801.07683v1)"
   ]
  },
  {
   "cell_type": "markdown",
   "metadata": {},
   "source": [
    "## Datagen"
   ]
  },
  {
   "cell_type": "code",
   "execution_count": 2,
   "metadata": {},
   "outputs": [],
   "source": [
    "# Create function to generate mock data\n",
    "\n",
    "from graspy.simulations import sbm\n",
    "\n",
    "def data_generator(num_graphs, N, n, prob_tensor, percent_vec):\n",
    "\n",
    "    # Getting the number of classes\n",
    "    num_types = len(percent_vec)\n",
    "\n",
    "    # Getting vector with the number of graphs in each class\n",
    "    num = [int(num_graphs * a) for a in percent_vec]\n",
    "\n",
    "    # Creating blank arrays for all of the returns\n",
    "    data = np.zeros((num_graphs, N, N))\n",
    "    y_label = np.zeros((num_graphs, 1))\n",
    "\n",
    "    # Creates vector of random indices to randomly distribute graphs in tensor\n",
    "    L_ind = random.sample(range(0, num_graphs), num_graphs)\n",
    "\n",
    "    # Loop for creating the returns\n",
    "    for i in range(num_types):\n",
    "\n",
    "        # Create tensor that will contain all of the graphs of one type\n",
    "        types = np.zeros((num[i], N, N))\n",
    "\n",
    "        # Put all the graphs of one type into types\n",
    "        for j in range(len(types)):\n",
    "            types[j] = sbm(n=n, p=prob_tensor[i])\n",
    "\n",
    "        # Assigns all of the graphs in types to random indices in data\n",
    "        data[L_ind[: num[i]]] = types\n",
    "\n",
    "        # Creates corresponding labels\n",
    "        y_label[L_ind[: num[i]]] = int(i)\n",
    "\n",
    "        # Gets rid of used indices\n",
    "        L_ind = L_ind[num[i] :]\n",
    "\n",
    "    return data, y_label"
   ]
  },
  {
   "cell_type": "code",
   "execution_count": 3,
   "metadata": {},
   "outputs": [],
   "source": [
    "prob_tensor = np.zeros((2, 2, 2))\n",
    "prob_tensor[0] = [[0.3, 0.2], [0.2, 0.3]]\n",
    "prob_tensor[1] = [[0.4, 0.2], [0.2, 0.3]]\n",
    "n = [20, 180]\n",
    "percent_vec = np.asarray([0.50, 0.50])\n",
    "\n",
    "#Create signal subgraph label vector, \n",
    "#indicating which nodes are in the signal subgraph.\n",
    "\n",
    "ss_label = np.zeros(200)\n",
    "ss_label[:20] = 1"
   ]
  },
  {
   "cell_type": "markdown",
   "metadata": {},
   "source": [
    "Data will be generated 100 times and screened with all methods. The average accuracy and standard deviation of the \n",
    "average will be compared with the paper to demonstrate accuracy. The same conditions are used here as in the paper, from \n",
    "total number of graphs to proportion of each class type."
   ]
  },
  {
   "cell_type": "markdown",
   "metadata": {},
   "source": [
    "# Non-Iterative MGC"
   ]
  },
  {
   "cell_type": "code",
   "execution_count": 50,
   "metadata": {},
   "outputs": [
    {
     "name": "stdout",
     "output_type": "stream",
     "text": [
      "--- 741.065438747406 seconds ---\n",
      "Average MGC\n",
      "0.8214972222222222\n",
      "MGC Standard Error\n",
      "0.005371033418664609\n"
     ]
    }
   ],
   "source": [
    "import time\n",
    "from scipy import stats\n",
    "\n",
    "auc_MGC = np.zeros(0)\n",
    "\n",
    "start_time = time.time()\n",
    "for i in range(100): \n",
    "    \n",
    "    data, y_label = data_generator(100, 200, n, prob_tensor, percent_vec)\n",
    "    \n",
    "    screen_MGC.fit(data, y_label)\n",
    "    score = screen_MGC.corrs\n",
    "    \n",
    "    tpr, fpr, threshold = metrics.roc_curve(ss_label, score, pos_label=0)\n",
    "    \n",
    "    auc_MGC = np.append(auc_MGC, metrics.auc(fpr,tpr))\n",
    "    \n",
    "print(\"--- %s seconds ---\" % (time.time() - start_time))\n",
    "\n",
    "print(\"Average MGC\")\n",
    "print(np.average(auc_MGC))\n",
    "\n",
    "print(\"MGC Standard Error\")\n",
    "print(stats.sem(auc_MGC))"
   ]
  },
  {
   "cell_type": "markdown",
   "metadata": {},
   "source": [
    "# Non-Iterative DCORR"
   ]
  },
  {
   "cell_type": "code",
   "execution_count": 52,
   "metadata": {},
   "outputs": [
    {
     "name": "stdout",
     "output_type": "stream",
     "text": [
      "--- 45.302879333496094 seconds ---\n",
      "Average DCORR\n",
      "0.8144055555555555\n",
      "DCORR Standard Error\n",
      "0.005838290902817231\n"
     ]
    }
   ],
   "source": [
    "import time\n",
    "from scipy import stats\n",
    "\n",
    "auc_DCORR = np.zeros(0)\n",
    "\n",
    "start_time = time.time()\n",
    "for i in range(100): \n",
    "    \n",
    "    data, y_label = data_generator(100, 200, n, prob_tensor, percent_vec)\n",
    "    \n",
    "    screen_DCORR.fit(data, y_label)\n",
    "    score = screen_DCORR.corrs\n",
    "    \n",
    "    tpr, fpr, threshold = metrics.roc_curve(ss_label, score, pos_label=0)\n",
    "    \n",
    "    auc_DCORR = np.append(auc_DCORR, metrics.auc(fpr,tpr))\n",
    "    \n",
    "print(\"--- %s seconds ---\" % (time.time() - start_time))\n",
    "\n",
    "print(\"Average DCORR\")\n",
    "print(np.average(auc_DCORR))\n",
    "\n",
    "print(\"DCORR Standard Error\")\n",
    "print(stats.sem(auc_DCORR))"
   ]
  },
  {
   "cell_type": "markdown",
   "metadata": {},
   "source": [
    "# Non-Iterative RV"
   ]
  },
  {
   "cell_type": "code",
   "execution_count": 53,
   "metadata": {},
   "outputs": [
    {
     "name": "stdout",
     "output_type": "stream",
     "text": [
      "--- 62.18116092681885 seconds ---\n",
      "Average RV\n",
      "0.809425\n",
      "RV Standard Error\n",
      "0.005859599960244853\n"
     ]
    }
   ],
   "source": [
    "import time\n",
    "from scipy import stats\n",
    "\n",
    "auc_RV = np.zeros(0)\n",
    "\n",
    "start_time = time.time()\n",
    "for i in range(100): \n",
    "    \n",
    "    data, y_label = data_generator(100, 200, n, prob_tensor, percent_vec)\n",
    "    \n",
    "    screen_RV.fit(data, y_label)\n",
    "    score = screen_RV.corrs\n",
    "    \n",
    "    tpr, fpr, threshold = metrics.roc_curve(ss_label, score, pos_label=0)\n",
    "    \n",
    "    auc_RV = np.append(auc_RV, metrics.auc(fpr,tpr))\n",
    "    \n",
    "print(\"--- %s seconds ---\" % (time.time() - start_time))\n",
    "\n",
    "print(\"Average RV\")\n",
    "print(np.average(auc_RV))\n",
    "\n",
    "print(\"RV Standard Error\")\n",
    "print(stats.sem(auc_RV))"
   ]
  },
  {
   "cell_type": "markdown",
   "metadata": {},
   "source": [
    "# Non-Iterative CCA"
   ]
  },
  {
   "cell_type": "code",
   "execution_count": 54,
   "metadata": {},
   "outputs": [
    {
     "name": "stdout",
     "output_type": "stream",
     "text": [
      "--- 51.92454409599304 seconds ---\n",
      "Average CCA\n",
      "0.8156916666666666\n",
      "CCA Standard Error\n",
      "0.0058700988463371555\n"
     ]
    }
   ],
   "source": [
    "import time\n",
    "from scipy import stats\n",
    "\n",
    "auc_CCA = np.zeros(0)\n",
    "\n",
    "start_time = time.time()\n",
    "for i in range(100): \n",
    "    \n",
    "    data, y_label = data_generator(100, 200, n, prob_tensor, percent_vec)\n",
    "    \n",
    "    screen_CCA.fit(data, y_label)\n",
    "    score = screen_CCA.corrs\n",
    "    \n",
    "    tpr, fpr, threshold = metrics.roc_curve(ss_label, score, pos_label=0)\n",
    "    \n",
    "    auc_CCA = np.append(auc_CCA, metrics.auc(fpr,tpr))\n",
    "    \n",
    "print(\"--- %s seconds ---\" % (time.time() - start_time))\n",
    "\n",
    "print(\"Average CCA\")\n",
    "print(np.average(auc_CCA))\n",
    "\n",
    "print(\"CCA Standard Error\")\n",
    "print(stats.sem(auc_CCA))"
   ]
  },
  {
   "cell_type": "markdown",
   "metadata": {},
   "source": [
    "# Iterative MGC with 0.50"
   ]
  },
  {
   "cell_type": "code",
   "execution_count": 58,
   "metadata": {},
   "outputs": [
    {
     "name": "stdout",
     "output_type": "stream",
     "text": [
      "--- 3085.776354789734 seconds ---\n",
      "Average ItMGC-0.50\n",
      "0.8347722222222221\n",
      "ItMGC-0.50 Standard Error\n",
      "0.006852687159021188\n"
     ]
    }
   ],
   "source": [
    "import time\n",
    "from scipy import stats\n",
    "\n",
    "auc_ItMGC_50 = np.zeros(0)\n",
    "\n",
    "start_time = time.time()\n",
    "for i in range(100): \n",
    "    \n",
    "    data, y_label = data_generator(100, 200, n, prob_tensor, percent_vec)\n",
    "    \n",
    "    screen_ItMGC50.fit(data, y_label)\n",
    "    score = screen_ItMGC50.corrs\n",
    "    \n",
    "    tpr, fpr, threshold = metrics.roc_curve(ss_label, score, pos_label=0)\n",
    "    \n",
    "    auc_ItMGC_50 = np.append(auc_ItMGC_50, metrics.auc(fpr,tpr))\n",
    "    \n",
    "print(\"--- %s seconds ---\" % (time.time() - start_time))\n",
    "\n",
    "print(\"Average ItMGC-0.50\")\n",
    "print(np.average(auc_ItMGC_50))\n",
    "\n",
    "print(\"ItMGC-0.50 Standard Error\")\n",
    "print(stats.sem(auc_ItMGC_50))"
   ]
  },
  {
   "cell_type": "markdown",
   "metadata": {},
   "source": [
    "# Iterative MGC with 0.05"
   ]
  },
  {
   "cell_type": "code",
   "execution_count": 63,
   "metadata": {},
   "outputs": [
    {
     "name": "stdout",
     "output_type": "stream",
     "text": [
      "--- 24135.199751377106 seconds ---\n",
      "Average ItMGC-0.05\n",
      "0.8393944444444443\n",
      "ItMGC-0.05 Standard Error\n",
      "0.006344786761960167\n"
     ]
    }
   ],
   "source": [
    "import time\n",
    "from scipy import stats\n",
    "\n",
    "auc_ItMGC_05 = np.zeros(0)\n",
    "\n",
    "start_time = time.time()\n",
    "for i in range(100): \n",
    "    \n",
    "    data, y_label = data_generator(100, 200, n, prob_tensor, percent_vec)\n",
    "    \n",
    "    screen_ItMGC05.fit(data, y_label)\n",
    "    score = screen_ItMGC05.corrs\n",
    "    \n",
    "    tpr, fpr, threshold = metrics.roc_curve(ss_label, score, pos_label=0)\n",
    "    \n",
    "    auc_ItMGC_05 = np.append(auc_ItMGC_05, metrics.auc(fpr,tpr))\n",
    "    \n",
    "print(\"--- %s seconds ---\" % (time.time() - start_time))\n",
    "\n",
    "print(\"Average ItMGC-0.05\")\n",
    "print(np.average(auc_ItMGC_05))\n",
    "\n",
    "print(\"ItMGC-0.05 Standard Error\")\n",
    "print(stats.sem(auc_ItMGC_05))"
   ]
  },
  {
   "cell_type": "markdown",
   "metadata": {},
   "source": [
    "# Iterative DCORR with 0.50"
   ]
  },
  {
   "cell_type": "code",
   "execution_count": 59,
   "metadata": {},
   "outputs": [
    {
     "name": "stdout",
     "output_type": "stream",
     "text": [
      "--- 142.10316157341003 seconds ---\n",
      "Average ItDCORR-0.50\n",
      "0.8308000000000001\n",
      "ItDCORR-0.50 Standard Error\n",
      "0.006913105808837304\n"
     ]
    }
   ],
   "source": [
    "import time\n",
    "from scipy import stats\n",
    "\n",
    "auc_ItDCORR_50 = np.zeros(0)\n",
    "\n",
    "start_time = time.time()\n",
    "for i in range(100): \n",
    "    \n",
    "    data, y_label = data_generator(100, 200, n, prob_tensor, percent_vec)\n",
    "    \n",
    "    screen_ItDCORR50.fit(data, y_label)\n",
    "    score = screen_ItDCORR50.corrs\n",
    "    \n",
    "    tpr, fpr, threshold = metrics.roc_curve(ss_label, score, pos_label=0)\n",
    "    \n",
    "    auc_ItDCORR_50 = np.append(auc_ItDCORR_50, metrics.auc(fpr,tpr))\n",
    "    \n",
    "print(\"--- %s seconds ---\" % (time.time() - start_time))\n",
    "\n",
    "print(\"Average ItDCORR-0.50\")\n",
    "print(np.average(auc_ItDCORR_50))\n",
    "\n",
    "print(\"ItDCORR-0.50 Standard Error\")\n",
    "print(stats.sem(auc_ItDCORR_50))"
   ]
  },
  {
   "cell_type": "markdown",
   "metadata": {},
   "source": [
    "# Iterative DCORR with 0.05"
   ]
  },
  {
   "cell_type": "code",
   "execution_count": 99,
   "metadata": {},
   "outputs": [
    {
     "name": "stdout",
     "output_type": "stream",
     "text": [
      "--- 690.7410480976105 seconds ---\n",
      "Average ItDCORR-0.05\n",
      "0.830577777777778\n",
      "ItDCORR-0.05 Standard Error\n",
      "0.008041025325809545\n"
     ]
    }
   ],
   "source": [
    "import time\n",
    "from scipy import stats\n",
    "\n",
    "auc_ItDCORR_05 = np.zeros(0)\n",
    "\n",
    "start_time = time.time()\n",
    "for i in range(100): \n",
    "    \n",
    "    data, y_label = data_generator(100, 200, n, prob_tensor, percent_vec)\n",
    "    \n",
    "    screen_ItDCORR05.fit(data, y_label)\n",
    "    score = screen_ItDCORR05.corrs\n",
    "    \n",
    "    tpr, fpr, threshold = metrics.roc_curve(ss_label, score, pos_label=0)\n",
    "    \n",
    "    auc_ItDCORR_05 = np.append(auc_ItDCORR_05, metrics.auc(fpr,tpr))\n",
    "    \n",
    "print(\"--- %s seconds ---\" % (time.time() - start_time))\n",
    "\n",
    "print(\"Average ItDCORR-0.05\")\n",
    "print(np.average(auc_ItDCORR_05))\n",
    "\n",
    "print(\"ItDCORR-0.05 Standard Error\")\n",
    "print(stats.sem(auc_ItDCORR_05))"
   ]
  },
  {
   "cell_type": "code",
   "execution_count": 100,
   "metadata": {},
   "outputs": [
    {
     "data": {
      "image/png": "[encoded data removed]",
      "text/plain": [
       "<Figure size 1332x756 with 1 Axes>"
      ]
     },
     "metadata": {},
     "output_type": "display_data"
    },
    {
     "data": {
      "text/plain": [
       "<Figure size 8000x8000 with 0 Axes>"
      ]
     },
     "metadata": {},
     "output_type": "display_data"
    }
   ],
   "source": [
    "import seaborn as sns\n",
    "%matplotlib inline\n",
    "\n",
    "plt.close('all')\n",
    "\n",
    "objects = ('MGC', 'DCORR', 'CCA', 'RV', 'ItMGC-0.50', 'ItMGC-0.05', 'ItDCORR-0.50', 'ItDCORR-0.05')\n",
    "x_pos = np.arange(len(objects))\n",
    "means = [np.average(auc_MGC),np.average(auc_DCORR),np.average(auc_CCA),np.average(auc_RV),np.average(auc_ItMGC_50),np.average(auc_ItMGC_05),np.average(auc_ItDCORR_50),np.average(auc_ItDCORR_05)]\n",
    "pap_means = [0.8241,0.8262,0.5353,0.7074,0.8425,0.8620,0.8455,0.8605]\n",
    "errs = [stats.sem(auc_MGC),stats.sem(auc_DCORR),stats.sem(auc_CCA),stats.sem(auc_RV),stats.sem(auc_ItMGC_50),stats.sem(auc_ItMGC_05),stats.sem(auc_ItDCORR_50),stats.sem(auc_ItDCORR_05)]\n",
    "pap_errs = [0.0057,0.0056,0.0080,0.0077,0.0120,0.0116,0.0091,0.0103]\n",
    "w = 0.3\n",
    "\n",
    "sns.set()\n",
    "sns.set_context(\"talk\", font_scale=1.10)\n",
    "sns.set_style(\"darkgrid\", {\"axes.facecolor\": \".9\"})\n",
    "fig, ax = plt.subplots(1,1)\n",
    "ax.bar(x_pos, means, yerr=errs, align='center', alpha=0.5, ecolor='black', capsize=10, width=0.3)\n",
    "ax.bar(x_pos - w, pap_means, yerr=pap_errs, align='center', alpha=0.5, ecolor='black', capsize=10, width=0.3)\n",
    "ax.set_ylabel('AUC Value')\n",
    "ax.set_xticks(x_pos)\n",
    "ax.set_xticklabels(objects)\n",
    "ax.set_xlabel('Method Used')\n",
    "ax.set_title('Average AUC Comparison')\n",
    "ax.set_yticks([0.50, 0.55, 0.60, 0.65, 0.70, 0.75, 0.80, 0.85, 0.90], minor=True)\n",
    "ax.yaxis.grid(True)\n",
    "plt.ylim(top=0.90)\n",
    "plt.ylim(bottom=0.50)\n",
    "plt.tight_layout()\n",
    "fig.autofmt_xdate()\n",
    "Source=['My Results','Paper']\n",
    "plt.legend(Source,loc=4)\n",
    "plt.figure(num=None, figsize=(80, 80), dpi=100, facecolor='w', edgecolor='k')\n",
    "fig.set_size_inches(18.5, 10.5, forward=True)\n"
   ]
  }
 ],
 "metadata": {
  "kernelspec": {
   "display_name": "Python 3",
   "language": "python",
   "name": "python3"
  },
  "language_info": {
   "codemirror_mode": {
    "name": "ipython",
    "version": 3
   },
   "file_extension": ".py",
   "mimetype": "text/x-python",
   "name": "python",
   "nbconvert_exporter": "python",
   "pygments_lexer": "ipython3",
   "version": "3.6.8"
  }
 },
 "nbformat": 4,
 "nbformat_minor": 2
}

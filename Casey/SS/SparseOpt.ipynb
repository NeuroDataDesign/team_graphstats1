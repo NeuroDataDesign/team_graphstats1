{
 "cells": [
  {
   "cell_type": "markdown",
   "metadata": {},
   "source": [
    "# Sparse Optimization Tutorial Notebook\n",
    "\n",
    "### Algorithm fits a regularized logistic regression to a set of network adjacency matrices with responses, and returns an object with the classifier.The classifier fits a matrix of coefficients.\n",
    "\n",
    "### Sparse optimization mathematically is "
   ]
  }
 ],
 "metadata": {
  "kernelspec": {
   "display_name": "Python 3",
   "language": "python",
   "name": "python3"
  },
  "language_info": {
   "codemirror_mode": {
    "name": "ipython",
    "version": 3
   },
   "file_extension": ".py",
   "mimetype": "text/x-python",
   "name": "python",
   "nbconvert_exporter": "python",
   "pygments_lexer": "ipython3",
   "version": "3.6.9"
  }
 },
 "nbformat": 4,
 "nbformat_minor": 2
}

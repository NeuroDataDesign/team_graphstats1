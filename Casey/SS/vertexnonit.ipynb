{
 "cells": [
  {
   "cell_type": "code",
   "execution_count": 2,
   "metadata": {},
   "outputs": [],
   "source": [
    "#Dependencies\n",
    "import graspy\n",
    "import pdb\n",
    "import myModule\n",
    "from mgcpy.independence_tests.mgc import MGC\n",
    "from mgcpy.independence_tests.dcorr import DCorr\n",
    "from mgcpy.independence_tests.rv_corr import RVCorr\n",
    "from utils import cartprod\n",
    "import numpy as np\n",
    "import pandas as pd\n",
    "import matplotlib.pyplot as plt\n",
    "import scipy as sp\n",
    "import random\n",
    "%matplotlib inline\n",
    "from graspy.simulations import sbm\n",
    "from graspy.plot import heatmap\n",
    "np.random.seed(10)\n",
    "\n",
    "#Generating simulation/test data\n",
    "def data_generator(num_graphs, N, n, prob_vec, percent_vec):\n",
    "    \n",
    "    #Create empty tensor for data to be added to,\n",
    "    #as well as tensors to store each data type\n",
    "    \n",
    "    num_types = len(percent_vec)\n",
    "    num = [int(num_graphs * a) for a in percent_vec]\n",
    "    \n",
    "    data = np.zeros((num_graphs,N,N))\n",
    "    y_label = np.zeros((num_graphs,1))\n",
    "    p_tensor = np.zeros((num_types,N,N))\n",
    "    \n",
    "    L_ind = random.sample(range(0, num_graphs), num_graphs)\n",
    "    \n",
    "    for i in range(num_types):\n",
    "        types = np.zeros((num[i],N,N))\n",
    "        \n",
    "        for j in range(len(types)):\n",
    "            types[j] = sbm(n=n, p=prob_vec[i])\n",
    "        data[L_ind[:num[i]]] = types\n",
    "        y_label[L_ind[:num[i]]] = i\n",
    "        L_ind = L_ind[num[i]:]\n",
    "        \n",
    "        prob_mat = 2*np.ones((1,N))\n",
    "        for k in range(len(n)):\n",
    "            count = 0\n",
    "            first_row = 2*np.ones((1,N))\n",
    "            for L in range(len(n)):\n",
    "                vec = np.repeat(prob_vec[i][k][L],n[L])\n",
    "                first_row = np.append(first_row,vec)\n",
    "                first_row = first_row[first_row != 2]\n",
    "            first_row = np.tile(first_row, (n[k],1))\n",
    "            prob_mat = np.vstack( (prob_mat, first_row) )\n",
    "        p_tensor[i] = prob_mat[1:]\n",
    "            \n",
    "    y_label = y_label.astype(int)\n",
    "    #y_label = y_label.tolist()\n",
    "    \n",
    "    return data, y_label, p_tensor\n",
    "\n",
    "def mat_likelihood(A, P_hat, domain):\n",
    "    A_complement = 1 - A\n",
    "    P_hat_complement = 1 - P_hat\n",
    "    \n",
    "    dim = len(P_hat)\n",
    "    \n",
    "    outputs = np.zeros(dim)\n",
    "    \n",
    "    #print(P_hat)\n",
    "    #print(A)\n",
    "    \n",
    "    types_ = 0\n",
    "    count = 1\n",
    "    for i in range(dim):\n",
    "        intermediate = np.log(np.multiply(np.power(P_hat[i], A), np.power(P_hat_complement[i], A_complement)))\n",
    "        intermediate = np.triu(intermediate)\n",
    "        intermediate = intermediate[domain]\n",
    "        val = np.sum(intermediate)\n",
    "        if i == 0:\n",
    "            final = val\n",
    "        elif val > final:\n",
    "            final = val\n",
    "            types_ = i\n",
    "        else:\n",
    "            continue\n",
    "    \n",
    "    return types_    \n",
    "\n",
    "def classifier_method(num_graphs, N, percent_vec, prob_tensor, ss_m_n, A_data, y_label):\n",
    "    vals = range(len(percent_vec))\n",
    "    \n",
    "    num = num_graphs * percent_vec\n",
    "    \n",
    "    ind = np.asarray([np.where(y_label == i)[0] for i in vals])\n",
    "    \n",
    "    data_subsets = np.asarray([data[j] for j in ind])\n",
    "    \n",
    "    sums = np.asarray([np.sum(a, 0) for a in data_subsets])\n",
    "    \n",
    "    P_hat_vec = np.asarray([np.true_divide(sums[b],num[b]) for b in range(len(num))])\n",
    "    \n",
    "    label_estimate = np.zeros(num_graphs)\n",
    "    for i in range(len(A_data)):\n",
    "        label_estimate[i] = mat_likelihood(A_data[i], P_hat_vec, ss_m_n)\n",
    "\n",
    "    return label_estimate\n",
    "\n",
    "def non_iterative_screen(a_tensor, N, y_labels, c, opt):\n",
    "\n",
    "    '''\n",
    "    Performs iterative screening on graphs.\n",
    "\n",
    "    Parameters\n",
    "\n",
    "    ----------\n",
    "    \n",
    "    a_tensor: tensor of adjacency matrices that are going to be used for signal subgraph.\n",
    "\n",
    "    mat_n_m: Length/width of the adjacency matrices in the dictionary\n",
    "    \n",
    "    y_labels: the vector of labels.\n",
    "    \n",
    "    c: the correlation threshold value.\n",
    "    \n",
    "    opt: indicator of whether to use dcorr or mgc\n",
    "\n",
    "    Returns\n",
    "\n",
    "    -------\n",
    "\n",
    "    values_flags: the signal subgraph of a_matrix, found through non-iterative\n",
    "\n",
    "    vertex screening.\n",
    "    '''\n",
    "    mgc = MGC()\n",
    "    dcorr = DCorr(which_test = 'unbiased')\n",
    "    rvcorr = RVCorr()\n",
    "    count = len(a_tensor)\n",
    "    S_hat = np.zeros((count,1))\n",
    "    \n",
    "    #Creates matrices by stacking the nth rows on top of each other and running mgc on those with their \n",
    "    #corresponding labels.\n",
    "    for i in range(len(a_tensor)):\n",
    "        mat = a_tensor[:,i]\n",
    "        #data[y_label_class[:,0].astype(int)][0]\n",
    "        if opt == \"mgc\":\n",
    "            c_u_0, independence_test_metadata_0 = mgc.test_statistic(mat, y_labels)\n",
    "            S_hat[i][0] = c_u_0\n",
    "        elif opt == \"dcorr\":\n",
    "            c_u_1, independence_test_metadata_1 = dcorr.test_statistic(mat, y_labels)\n",
    "            S_hat[i][0] = c_u_1\n",
    "        else:\n",
    "            c_u_2, independence_test_metadata_1 = rvcorr.test_statistic(mat, y_labels)\n",
    "            S_hat[i][0] = c_u_2\n",
    "    \n",
    "    S_hat = np.absolute(S_hat)\n",
    "    S_hat = S_hat[:,0]\n",
    "    #as_vec = np.sort(S_hat.reshape(1,200)).reshape(200,1)\n",
    "    #list_comp = as_vec[-20:]\n",
    "    #values_flags = []\n",
    "    #for i in range(20):\n",
    "    #    values_flags.append(np.where(S_hat == list_comp[i])[0][0])\n",
    "    largest = S_hat.argsort()[-20:][::-1]\n",
    "    values_flags = np.nonzero(S_hat > c)\n",
    "    \n",
    "    return np.asarray(values_flags[0][:]) #, largest\n",
    "    \n",
    "\n",
    "def iterative_screen(a_tensor, N, y_labels, delta, opt):\n",
    "\n",
    "    '''\n",
    "    Performs iterative screening on graphs.\n",
    "\n",
    "    Parameters\n",
    "\n",
    "    ----------\n",
    "    \n",
    "    a_tensor: tensor of adjacency matrices that are going to be used for signal subgraph.\n",
    "\n",
    "    mat_n_m: Length/width of the adjacency matrices in the dictionary\n",
    "    \n",
    "    y_labels: the vector of labels.\n",
    "    \n",
    "    delta: quantile to be screened\n",
    "    \n",
    "    opt: indicator of whether to use dcorr or mgc\n",
    "\n",
    "    Returns\n",
    "\n",
    "    -------\n",
    "\n",
    "    values_flags: the signal subgraph of a_matrix, found through non-iterative\n",
    "\n",
    "    vertex screening.\n",
    "    '''\n",
    "    mgc = MGC()\n",
    "    dcorr = DCorr(which_test = 'unbiased')\n",
    "    rvcorr = RVCorr()\n",
    "    count = len(a_tensor)\n",
    "    S_hat = np.zeros((count,1))\n",
    "    \n",
    "    V = np.arange(200)\n",
    "    \n",
    "    while V.size > 1:\n",
    "        c_u_list = []\n",
    "        for i in V:\n",
    "            c_u, independence_test_metadata = mgc.test_statistic(a_tensor[:,i], y_labels)\n",
    "            c_u_list.append(abs(c_u))\n",
    "        t_k = np.quantile(c_u_list, .50, axis = 0)\n",
    "        ind = [i for i,j in enumerate(c_u_list) if j > t_k]\n",
    "        V = V[ind]\n",
    "        print(V)\n",
    "\n",
    "    c_k, independence_test_metadata = mgc.test_statistic(a_tensor[:,V[0]], y_labels)\n",
    "    #k_* = np.argmax()\n",
    "    \n",
    "    return V, c_k"
   ]
  },
  {
   "cell_type": "code",
   "execution_count": 3,
   "metadata": {},
   "outputs": [
    {
     "data": {
      "text/plain": [
       "<matplotlib.axes._subplots.AxesSubplot at 0x7f10fe689e10>"
      ]
     },
     "execution_count": 3,
     "metadata": {},
     "output_type": "execute_result"
    },
    {
     "data": {
      "image/png": "[encoded data removed]",
      "text/plain": [
       "<Figure size 720x720 with 2 Axes>"
      ]
     },
     "metadata": {
      "needs_background": "light"
     },
     "output_type": "display_data"
    },
    {
     "data": {
      "text/plain": [
       "<Figure size 432x288 with 0 Axes>"
      ]
     },
     "metadata": {},
     "output_type": "display_data"
    },
    {
     "data": {
      "image/png": "[encoded data removed]",
      "text/plain": [
       "<Figure size 720x720 with 2 Axes>"
      ]
     },
     "metadata": {
      "needs_background": "light"
     },
     "output_type": "display_data"
    }
   ],
   "source": [
    "# Make Simulation Data\n",
    "prob_tensor = np.zeros((2,2,2))\n",
    "prob_tensor[0] = [[.3, .2], [.2, .3]]\n",
    "prob_tensor[1] = [[.4, .2], [.2, .3]]\n",
    "n = [20, 180]\n",
    "percent_vec = np.asarray([0.50, 0.50])\n",
    "\n",
    "#Can't make too little graphs otherwise will have to deal with dividing by zero problem!!\n",
    "\n",
    "data, y_label, p_data = data_generator(200, 200, n, prob_tensor, percent_vec)\n",
    "#y_label_class = y_label.reshape(100,1).astype(float)\n",
    "\n",
    "#Plot\n",
    "heatmap(data[np.where(y_label == 0)[0]][0], title='y = 0 Graph Simulation')\n",
    "\n",
    "plt.figure()\n",
    "heatmap(data[np.where(y_label == 1)[0]][1], title='y = 1 Graph Simulation')"
   ]
  },
  {
   "cell_type": "code",
   "execution_count": 758,
   "metadata": {},
   "outputs": [
    {
     "name": "stdout",
     "output_type": "stream",
     "text": [
      "[2. 4. 6. 4. 3. 4. 2. 0. 5. 4. 3. 2. 3. 3. 0. 3. 0. 2. 4. 3. 3. 1. 1. 3.\n",
      " 3. 1. 4. 2. 0. 0. 0. 0. 0. 2. 1. 1. 0. 3. 0. 2. 1. 1. 7. 4. 3. 2. 2. 2.\n",
      " 1. 1. 0. 4. 2. 2. 1. 1. 3. 1. 0. 2. 1. 5. 4. 0. 2. 0. 2. 2. 0. 2. 1. 3.\n",
      " 2. 3. 0. 1. 2. 0. 2. 1. 2. 2. 1. 1. 3. 1. 5. 3. 2. 1. 5. 2. 2. 1. 3. 1.\n",
      " 0. 3. 2. 1. 3. 4. 3. 3. 0. 3. 2. 4. 2. 4. 1. 3. 2. 3. 1. 1. 2. 2. 2. 0.\n",
      " 1. 2. 5. 1. 3. 2. 4. 2. 2. 1. 0. 3. 2. 4. 1. 2. 3. 4. 3. 0. 3. 4. 1. 1.\n",
      " 3. 1. 3. 2. 1. 0. 3. 3. 1. 1. 0. 2. 2. 4. 1. 3. 2. 3. 2. 1. 2. 2. 0. 2.\n",
      " 2. 1. 4. 1. 1. 2. 1. 3. 4. 5. 3. 1. 1. 1. 2. 3. 3. 2. 3. 3. 2. 3. 2. 2.\n",
      " 2. 2. 4. 1. 1. 2. 4. 0.]\n",
      "[0.04 0.08 0.12 0.08 0.06 0.08 0.04 0.   0.1  0.08 0.06 0.04 0.06 0.06\n",
      " 0.   0.06 0.   0.04 0.08 0.06 0.06 0.02 0.02 0.06 0.06 0.02 0.08 0.04\n",
      " 0.   0.   0.   0.   0.   0.04 0.02 0.02 0.   0.06 0.   0.04 0.02 0.02\n",
      " 0.14 0.08 0.06 0.04 0.04 0.04 0.02 0.02 0.   0.08 0.04 0.04 0.02 0.02\n",
      " 0.06 0.02 0.   0.04 0.02 0.1  0.08 0.   0.04 0.   0.04 0.04 0.   0.04\n",
      " 0.02 0.06 0.04 0.06 0.   0.02 0.04 0.   0.04 0.02 0.04 0.04 0.02 0.02\n",
      " 0.06 0.02 0.1  0.06 0.04 0.02 0.1  0.04 0.04 0.02 0.06 0.02 0.   0.06\n",
      " 0.04 0.02 0.06 0.08 0.06 0.06 0.   0.06 0.04 0.08 0.04 0.08 0.02 0.06\n",
      " 0.04 0.06 0.02 0.02 0.04 0.04 0.04 0.   0.02 0.04 0.1  0.02 0.06 0.04\n",
      " 0.08 0.04 0.04 0.02 0.   0.06 0.04 0.08 0.02 0.04 0.06 0.08 0.06 0.\n",
      " 0.06 0.08 0.02 0.02 0.06 0.02 0.06 0.04 0.02 0.   0.06 0.06 0.02 0.02\n",
      " 0.   0.04 0.04 0.08 0.02 0.06 0.04 0.06 0.04 0.02 0.04 0.04 0.   0.04\n",
      " 0.04 0.02 0.08 0.02 0.02 0.04 0.02 0.06 0.08 0.1  0.06 0.02 0.02 0.02\n",
      " 0.04 0.06 0.06 0.04 0.06 0.06 0.04 0.06 0.04 0.04 0.04 0.04 0.08 0.02\n",
      " 0.02 0.04 0.08 0.  ]\n"
     ]
    }
   ],
   "source": [
    "mat = np.sum(data[np.where(y_label == 0)[0]], 0)\n",
    "vec = 100 * np.asarray([0.5, 0.5])\n",
    "print(mat[7])\n",
    "tense = np.asarray([np.true_divide(mat, vec[a]) for a in range(len(vec))])\n",
    "print(tense[0][7])\n",
    "#print(np.sum(data[np.where(y_label == 0)[0]], 0))\n",
    "#print(np.sum(data, 0)[2])]"
   ]
  },
  {
   "cell_type": "code",
   "execution_count": 17,
   "metadata": {},
   "outputs": [
    {
     "name": "stdout",
     "output_type": "stream",
     "text": [
      "[  0   1   2   3   4   5   6   7   8   9  10  11  12  13  14  15  16  17\n",
      "  18  19  25  27  29  32  35  37  43  45  51  52  54  55  58  60  63  66\n",
      "  67  69  70  71  72  73  75  76  78  79  80  86  89  90  92  95 107 108\n",
      " 109 111 114 116 118 122 123 124 125 126 129 130 135 136 138 141 149 150\n",
      " 153 154 156 162 164 166 167 172 173 176 177 182 183 186 188 189 191 195\n",
      " 199]\n",
      "[  0   1   2   3   4   5   6   7   8   9  10  11  12  13  14  15  16  17\n",
      "  18  19  25  27  29  32  35  37  43  45  51  52  54  55  60  63  66  67\n",
      "  69  70  71  73  75  76  78  79  80  86  89  90  92 108 109 111 114 116\n",
      " 118 122 123 124 126 129 130 135 136 138 141 149 150 153 156 162 164 166\n",
      " 167 172 173 176 177 182 183 186 188 189 191 195 199]\n",
      "[  0   1   2   3   4   5   6   7   8   9  10  11  12  13  14  15  17  18\n",
      "  19  25  27  29  32  35  37  43  45  51  52  54  60  63  66  67  69  70\n",
      "  71  73  75  76  78  79  80  86  89  90  92 108 109 114 116 118 122 123\n",
      " 126 129 130 135 136 138 149 150 153 156 162 166 167 172 173 176 177 183\n",
      " 186 188 189 191 195 199]\n",
      "[  0   1   2   3   4   5   6   7   8   9  10  11  12  13  14  15  17  18\n",
      "  19  25  27  29  32  35  37  43  45  51  52  54  60  66  67  69  71  73\n",
      "  75  76  78  79  80  86  89  90 108 109 114 116 118 122 123 126 129 130\n",
      " 135 136 149 150 153 156 162 172 173 176 177 183 186 188 189 195 199]\n",
      "[  0   1   2   3   4   5   6   7   8   9  10  11  12  13  14  15  17  18\n",
      "  19  25  27  32  35  37  43  45  51  52  54  60  66  67  69  71  73  75\n",
      "  76  78  79  80  86  89  90 108 109 114 116 118 122 123 126 129 130 136\n",
      " 149 150 153 156 162 173 176 177 183 186 188 189 195 199]\n",
      "[  0   1   2   3   4   5   6   7   8   9  10  11  12  13  14  15  17  18\n",
      "  19  25  27  32  35  37  43  45  51  52  54  60  66  67  69  71  73  75\n",
      "  76  79  80  86  89  90 108 109 114 116 118 122 123 126 129 130 136 149\n",
      " 150 153 156 162 173 176 177 183 186 188 189 195 199]\n",
      "[  0   1   2   3   4   5   6   7   8   9  10  11  12  13  14  15  17  18\n",
      "  19  25  27  32  35  37  43  45  51  54  60  66  67  69  71  73  75  76\n",
      "  79  80  86  89  90 108 109 114 116 118 123 126 129 130 136 149 150 153\n",
      " 156 173 176 183 186 188 189 199]\n",
      "[  0   1   2   3   4   5   6   7   8   9  10  11  12  13  14  15  17  18\n",
      "  19  25  27  32  35  37  43  45  54  60  66  67  69  71  73  75  76  79\n",
      "  80  86  89  90 108 109 114 116 118 123 126 129 130 136 149 150 153 156\n",
      " 173 176 183 186 188 189 199]\n",
      "[  0   1   2   3   4   5   6   7   8   9  10  11  12  13  14  15  17  18\n",
      "  19  25  27  32  35  37  43  45  54  60  66  67  69  71  73  75  76  79\n",
      "  80  86  89  90 108 109 114 116 118 123 126 130 136 149 150 153 156 173\n",
      " 183 186 189 199]\n",
      "[  0   1   2   3   4   5   6   7   8   9  10  11  12  13  14  15  17  18\n",
      "  19  25  27  32  35  37  43  45  54  60  66  67  69  71  73  75  76  79\n",
      "  80  86  90 108 109 114 116 123 126 136 149 150 153 183 186 189 199]\n",
      "[  0   1   2   3   4   5   6   7   8   9  10  11  12  13  14  15  17  18\n",
      "  19  25  27  32  35  37  43  45  54  60  66  67  69  71  73  75  76  79\n",
      "  80  86  90 108 109 114 116 123 126 149 150 153 183 186 189]\n",
      "[  0   1   2   3   4   5   6   7   8   9  10  11  12  13  14  15  17  18\n",
      "  19  25  27  32  35  37  43  45  60  66  67  69  71  73  75  76  80  86\n",
      "  90 108 109 114 116 123 126 149 150 153 183 186 189]\n",
      "[  0   1   2   3   4   5   6   7   8   9  10  11  12  13  14  15  17  18\n",
      "  19  25  27  32  35  43  45  60  66  67  69  71  73  75  76  80  86  90\n",
      " 108 109 114 116 123 126 149 150 153 183 189]\n",
      "[  0   1   2   3   4   5   7   8   9  10  11  12  13  14  15  17  18  19\n",
      "  25  27  32  35  43  45  60  66  67  71  73  75  76  80  86 108 109 114\n",
      " 116 123 126 149 150 153 183 189]\n",
      "[  0   1   2   3   4   5   7   8   9  10  11  12  13  14  15  17  18  19\n",
      "  25  27  32  43  45  60  66  71  73  75  76  80  86 108 109 114 116 123\n",
      " 126 150 153 183 189]\n",
      "[  0   1   2   3   4   5   7   8   9  10  11  12  13  14  15  17  18  19\n",
      "  25  27  32  43  45  60  66  71  73  75  76  80 108 109 114 116 123 126\n",
      " 150 153 183 189]\n",
      "[  0   1   2   3   4   5   7   8   9  10  11  12  13  14  15  17  18  19\n",
      "  25  32  45  60  66  71  73  75  76  80 108 109 114 116 123 126 150 153\n",
      " 183 189]\n",
      "[  0   1   2   3   4   5   7   8   9  10  11  12  13  14  15  17  18  19\n",
      "  25  32  45  60  66  71  73  75  76  80 108 109 114 116 123 126 150 153\n",
      " 183 189]\n",
      "[  0   1   2   3   4   5   7   8   9  10  11  12  13  14  15  17  18  19\n",
      "  25  45  60  66  71  73  76  80 108 109 114 116 123 126 153 183 189]\n",
      "[  0   1   2   3   4   5   7   8   9  10  11  12  13  14  15  17  18  19\n",
      "  25  45  60  66  71  73  76  80 108 109 114 116 123 153 183 189]\n",
      "[  0   1   2   3   4   5   7   8   9  10  11  12  13  14  15  18  19  25\n",
      "  45  60  66  71  73  76 108 109 116 123 153 183 189]\n",
      "[  0   1   2   3   4   5   7   8   9  10  11  12  13  14  15  18  19  25\n",
      "  45  60  66  71  73  76 108 109 116 123 153 183 189]\n",
      "[  0   1   2   3   4   5   7   8   9  10  11  12  13  14  15  18  19  25\n",
      "  45  60  66  71  73 108 109 116 123 153 183 189]\n",
      "[  0   1   2   3   4   5   7   8   9  10  11  12  13  14  15  18  19  25\n",
      "  45  60  66  71  73 108 109 116 123 153 183 189]\n",
      "[  0   1   2   3   4   5   7   8   9  10  11  12  13  14  15  18  19  25\n",
      "  45  66  71  73 108 109 116 123 183 189]\n",
      "[  0   1   2   3   4   5   7   8   9  10  11  12  13  14  15  18  19  25\n",
      "  45  66  71  73 108 109 116 123 183 189]\n",
      "[  0   1   2   3   4   5   7   8   9  10  11  12  13  14  15  18  25  45\n",
      "  66  71  73 108 109 116]\n",
      "[  0   1   2   3   4   5   7   8   9  10  12  13  14  15  18  45  71  73\n",
      " 108 109 116]\n",
      "[  0   1   2   3   4   5   7   8   9  10  12  13  14  15  18  45  71  73\n",
      " 108 109 116]\n",
      "[  0   1   2   3   4   5   7   8   9  10  12  13  14  15  18  45  71  73\n",
      " 108 109 116]\n",
      "[  0   1   2   3   4   5   7   8   9  10  12  13  14  15  18  45  71  73\n",
      " 108 109 116]\n",
      "[  0   1   2   3   4   5   7   8   9  10  12  13  14  15  18  45  71  73\n",
      " 108 109 116]\n"
     ]
    },
    {
     "ename": "ValueError",
     "evalue": "cannot reshape array of size 0 into shape (32,1,200)",
     "output_type": "error",
     "traceback": [
      "\u001b[0;31m---------------------------------------------------------------------------\u001b[0m",
      "\u001b[0;31mValueError\u001b[0m                                Traceback (most recent call last)",
      "\u001b[0;32m<ipython-input-17-6cf02c5be6c5>\u001b[0m in \u001b[0;36m<module>\u001b[0;34m\u001b[0m\n\u001b[1;32m     14\u001b[0m     \u001b[0;31m#tensor_labels = np.append(tensor_labels,test_labels)\u001b[0m\u001b[0;34m\u001b[0m\u001b[0;34m\u001b[0m\u001b[0;34m\u001b[0m\u001b[0m\n\u001b[1;32m     15\u001b[0m \u001b[0;34m\u001b[0m\u001b[0m\n\u001b[0;32m---> 16\u001b[0;31m \u001b[0mtensor_labels\u001b[0m \u001b[0;34m=\u001b[0m \u001b[0mtensor_labels\u001b[0m\u001b[0;34m.\u001b[0m\u001b[0mreshape\u001b[0m\u001b[0;34m(\u001b[0m\u001b[0;34m(\u001b[0m\u001b[0;36m32\u001b[0m\u001b[0;34m,\u001b[0m\u001b[0;36m1\u001b[0m\u001b[0;34m,\u001b[0m\u001b[0;36m200\u001b[0m\u001b[0;34m)\u001b[0m\u001b[0;34m)\u001b[0m\u001b[0;34m\u001b[0m\u001b[0;34m\u001b[0m\u001b[0m\n\u001b[0m\u001b[1;32m     17\u001b[0m \u001b[0;31m#print(ss_m_n)\u001b[0m\u001b[0;34m\u001b[0m\u001b[0;34m\u001b[0m\u001b[0;34m\u001b[0m\u001b[0m\n\u001b[1;32m     18\u001b[0m \u001b[0;31m#print(tensor_labels)\u001b[0m\u001b[0;34m\u001b[0m\u001b[0;34m\u001b[0m\u001b[0;34m\u001b[0m\u001b[0m\n",
      "\u001b[0;31mValueError\u001b[0m: cannot reshape array of size 0 into shape (32,1,200)"
     ]
    }
   ],
   "source": [
    "import sklearn.metrics as metrics\n",
    "c = np.linspace(0.006, 0.015, num=32)\n",
    "#c = [0.01, 0.02]\n",
    "tensor_labels = np.zeros((0, 1, 100))\n",
    "#counter = 0\n",
    "for i in c:\n",
    "\n",
    "    ss_m_n = non_iterative_screen(data, 200, y_label, i, \"mgc\")\n",
    "    \n",
    "    print(ss_m_n)\n",
    "    \n",
    "    #test_labels = classifier_method(200, 200, percent_vec, p_data, ss_m_n, data, y_label)\n",
    "\n",
    "    #tensor_labels = np.append(tensor_labels,test_labels)\n",
    "    \n",
    "tensor_labels = tensor_labels.reshape((32,1,200))\n",
    "#print(ss_m_n)    \n",
    "#print(tensor_labels)"
   ]
  },
  {
   "cell_type": "code",
   "execution_count": 15,
   "metadata": {},
   "outputs": [
    {
     "name": "stdout",
     "output_type": "stream",
     "text": [
      "[[[1. 0. 1. ... 1. 0. 1.]]\n",
      "\n",
      " [[1. 0. 1. ... 1. 0. 1.]]\n",
      "\n",
      " [[1. 0. 1. ... 1. 0. 1.]]\n",
      "\n",
      " ...\n",
      "\n",
      " [[1. 0. 1. ... 1. 0. 1.]]\n",
      "\n",
      " [[1. 0. 1. ... 1. 0. 1.]]\n",
      "\n",
      " [[1. 0. 1. ... 1. 0. 1.]]]\n"
     ]
    }
   ],
   "source": [
    "#tensor_labels = tensor_labels.reshape((32,1,100))\n",
    "#tensor_labels = tensor_labels.reshape((3,1,200))\n",
    "print(tensor_labels)\n",
    "#print(y_label)"
   ]
  },
  {
   "cell_type": "code",
   "execution_count": 16,
   "metadata": {},
   "outputs": [
    {
     "name": "stdout",
     "output_type": "stream",
     "text": [
      "100\n",
      "1.0\n",
      "0.0\n",
      "0\n",
      "100\n",
      "1.0\n",
      "0.0\n",
      "1\n",
      "100\n",
      "1.0\n",
      "0.0\n",
      "2\n",
      "100\n",
      "1.0\n",
      "0.0\n",
      "3\n",
      "100\n",
      "1.0\n",
      "0.0\n",
      "4\n",
      "100\n",
      "1.0\n",
      "0.0\n",
      "5\n",
      "100\n",
      "1.0\n",
      "0.0\n",
      "6\n",
      "100\n",
      "1.0\n",
      "0.0\n",
      "7\n",
      "100\n",
      "1.0\n",
      "0.0\n",
      "8\n",
      "100\n",
      "1.0\n",
      "0.0\n",
      "9\n",
      "100\n",
      "1.0\n",
      "0.0\n",
      "10\n",
      "100\n",
      "1.0\n",
      "0.0\n",
      "11\n",
      "100\n",
      "1.0\n",
      "0.0\n",
      "12\n",
      "100\n",
      "1.0\n",
      "0.0\n",
      "13\n",
      "100\n",
      "1.0\n",
      "0.0\n",
      "14\n",
      "100\n",
      "1.0\n",
      "0.0\n",
      "15\n",
      "100\n",
      "1.0\n",
      "0.0\n",
      "16\n",
      "100\n",
      "1.0\n",
      "0.0\n",
      "17\n",
      "100\n",
      "1.0\n",
      "0.0\n",
      "18\n",
      "100\n",
      "1.0\n",
      "0.0\n",
      "19\n",
      "100\n",
      "1.0\n",
      "0.0\n",
      "20\n",
      "100\n",
      "1.0\n",
      "0.0\n",
      "21\n",
      "100\n",
      "1.0\n",
      "0.0\n",
      "22\n",
      "100\n",
      "1.0\n",
      "0.0\n",
      "23\n",
      "100\n",
      "1.0\n",
      "0.0\n",
      "24\n",
      "100\n",
      "1.0\n",
      "0.0\n",
      "25\n",
      "100\n",
      "1.0\n",
      "0.0\n",
      "26\n",
      "100\n",
      "1.0\n",
      "0.0\n",
      "27\n",
      "100\n",
      "1.0\n",
      "0.0\n",
      "28\n",
      "100\n",
      "1.0\n",
      "0.0\n",
      "29\n",
      "100\n",
      "1.0\n",
      "0.0\n",
      "30\n",
      "100\n",
      "1.0\n",
      "0.0\n",
      "31\n",
      "0.0\n"
     ]
    },
    {
     "data": {
      "text/plain": [
       "[<matplotlib.lines.Line2D at 0x7f10fe029518>]"
      ]
     },
     "execution_count": 16,
     "metadata": {},
     "output_type": "execute_result"
    },
    {
     "data": {
      "image/png": "[encoded data removed]",
      "text/plain": [
       "<Figure size 432x288 with 1 Axes>"
      ]
     },
     "metadata": {
      "needs_background": "light"
     },
     "output_type": "display_data"
    }
   ],
   "source": [
    "false_pos_list = []\n",
    "true_pos_list = []\n",
    "for i in range(len(tensor_labels)):\n",
    "    list_test_labels = np.ndarray.tolist(tensor_labels[i][0])\n",
    "    list_test_labels = [int(i) for i in list_test_labels]\n",
    "    #fpr, tpr, threshold = metrics.roc_curve(list_test_labels, y_label)\n",
    "    count = 0\n",
    "    tpr = 0 \n",
    "    fpr = 0\n",
    "    for j in range(len(list_test_labels)):\n",
    "        if list_test_labels[j] == 1:\n",
    "            if y_label[j] == 1: \n",
    "                tpr += 1\n",
    "            if y_label[j] == 0: \n",
    "                fpr += 1\n",
    "    print(sum(list_test_labels))\n",
    "    \n",
    "    tpr = tpr / sum(list_test_labels)\n",
    "    \n",
    "    if sum(list_test_labels) == 200:\n",
    "        fpr = 0\n",
    "    else:\n",
    "        fpr = fpr / (200 - sum(list_test_labels))\n",
    "    \n",
    "    print(tpr)\n",
    "    print(fpr)\n",
    "    print(i)\n",
    "    false_pos_list.append(1 - tpr)\n",
    "    true_pos_list.append(tpr)\n",
    "\n",
    "print(metrics.auc(false_pos_list, true_pos_list))\n",
    "plt.plot(false_pos_list, true_pos_list)"
   ]
  },
  {
   "cell_type": "code",
   "execution_count": 824,
   "metadata": {},
   "outputs": [
    {
     "data": {
      "text/plain": [
       "<matplotlib.collections.PathCollection at 0x7f41770d7ba8>"
      ]
     },
     "execution_count": 824,
     "metadata": {},
     "output_type": "execute_result"
    },
    {
     "data": {
      "image/png": "[encoded data removed]",
      "text/plain": [
       "<Figure size 432x288 with 1 Axes>"
      ]
     },
     "metadata": {
      "needs_background": "light"
     },
     "output_type": "display_data"
    }
   ],
   "source": [
    "plt.scatter(false_pos_list, true_pos_list)"
   ]
  },
  {
   "cell_type": "code",
   "execution_count": 350,
   "metadata": {},
   "outputs": [
    {
     "name": "stdout",
     "output_type": "stream",
     "text": [
      "[  0   3   4   5   7   8   9  10  11  12  13  14  15  17  21  23  24  26\n",
      "  30  31  35  37  39  41  42  43  45  47  48  49  54  55  57  58  59  60\n",
      "  61  64  68  70  71  72  75  76  77  78  79  80  81  83  84  96  97 100\n",
      " 102 105 106 113 116 119 121 123 124 125 127 128 131 133 135 137 139 140\n",
      " 141 142 143 146 148 149 151 153 154 159 161 163 164 166 168 173 175 179\n",
      " 184 185 186 187 188 189 190 191 192 196]\n",
      "[  0   3   4   5   7   8   9  11  12  13  14  23  31  35  39  48  49  54\n",
      "  55  57  58  59  70  71  77  80  83  84  97 100 106 116 119 121 123 124\n",
      " 128 131 133 139 140 146 154 159 161 179 184 185 187 188]\n",
      "[  3   4   5   7   9  11  12  13  14  48  49  54  70  71  80  83  84 121\n",
      " 133 139 140 179 185 187 188]\n",
      "[  3   4   7   9  11  12  14  49  54 133 185 188]\n",
      "[  3   4   9  12  49 133]\n",
      "[  4  49 133]\n",
      "[133]\n"
     ]
    },
    {
     "data": {
      "text/plain": [
       "(array([133]), 0.06289007100742133)"
      ]
     },
     "execution_count": 350,
     "metadata": {},
     "output_type": "execute_result"
    }
   ],
   "source": [
    "iterative_screen(data, 200, y_label.reshape(100,1), 0.05, \"mgc\")"
   ]
  },
  {
   "cell_type": "code",
   "execution_count": 1605,
   "metadata": {},
   "outputs": [
    {
     "data": {
      "text/plain": [
       "array([ 0,  4,  6, 10, 11, 12, 13, 14, 15, 20, 26, 60, 73, 89])"
      ]
     },
     "execution_count": 1605,
     "metadata": {},
     "output_type": "execute_result"
    }
   ],
   "source": [
    "non_iterative_screen(data, 200, y_label_class, 0.092, \"cca\")"
   ]
  },
  {
   "cell_type": "code",
   "execution_count": 1594,
   "metadata": {},
   "outputs": [
    {
     "data": {
      "text/plain": [
       "array([ 0,  4, 10, 11, 14, 15, 21, 48, 60, 73, 89, 90, 92])"
      ]
     },
     "execution_count": 1594,
     "metadata": {},
     "output_type": "execute_result"
    }
   ],
   "source": [
    "non_iterative_screen(data, 200, y_label_class, 0.02, \"dcorr\")"
   ]
  },
  {
   "cell_type": "code",
   "execution_count": 1595,
   "metadata": {},
   "outputs": [
    {
     "data": {
      "text/plain": [
       "array([ 0,  4, 10, 11, 14, 15, 21, 48, 60, 73, 90, 92, 99])"
      ]
     },
     "execution_count": 1595,
     "metadata": {},
     "output_type": "execute_result"
    }
   ],
   "source": [
    "non_iterative_screen(data, 200, y_label_class, 0.02, \"mgc\")"
   ]
  },
  {
   "cell_type": "code",
   "execution_count": 33,
   "metadata": {},
   "outputs": [
    {
     "data": {
      "text/plain": [
       "<matplotlib.axes._subplots.AxesSubplot at 0x7f417cfc8ba8>"
      ]
     },
     "execution_count": 33,
     "metadata": {},
     "output_type": "execute_result"
    },
    {
     "data": {
      "image/png": "[encoded data removed]",
      "text/plain": [
       "<Figure size 720x720 with 2 Axes>"
      ]
     },
     "metadata": {
      "needs_background": "light"
     },
     "output_type": "display_data"
    }
   ],
   "source": [
    "mat = prob_tensor[0]\n",
    "#test = \n",
    "np.kron(mat, np.eye(4, 4))\n",
    "\n",
    "matrix = [[.3, .02, .01], [.02, .3, .0125], [.01, .0125, .31]]\n",
    "n = [200, 400, 300]\n",
    "matrick = sbm(n=n,p=matrix)\n",
    "heatmap(matrick)"
   ]
  },
  {
   "cell_type": "code",
   "execution_count": 312,
   "metadata": {},
   "outputs": [],
   "source": [
    "first = np.array([[1,2,3,4],[5,6,7,8]])\n",
    "second = np.array([[5,5,7,8]])\n",
    "#first = first[ first != 2 ]\n",
    "#first = first.reshape(7,1)\n",
    "#print(first)\n",
    "#np.tile(first, (3,1))\n",
    "#np.append(first[0],second)\n",
    "#np.array((1,2,3))\n",
    "#second = second[second != 5]\n",
    "#print(second)\n",
    "#np.vstack( (first, second) )\n",
    "#second = np.delete(second, ind_two)\n",
    "#print(first)"
   ]
  },
  {
   "cell_type": "code",
   "execution_count": 313,
   "metadata": {},
   "outputs": [
    {
     "data": {
      "text/plain": [
       "40320"
      ]
     },
     "execution_count": 313,
     "metadata": {},
     "output_type": "execute_result"
    }
   ],
   "source": [
    "np.prod(first)"
   ]
  },
  {
   "cell_type": "code",
   "execution_count": 481,
   "metadata": {},
   "outputs": [
    {
     "ename": "ValueError",
     "evalue": "could not broadcast input array from shape (4,4,4) into shape (4,4)",
     "output_type": "error",
     "traceback": [
      "\u001b[0;31m---------------------------------------------------------------------------\u001b[0m",
      "\u001b[0;31mValueError\u001b[0m                                Traceback (most recent call last)",
      "\u001b[0;32m<ipython-input-481-37562076efc5>\u001b[0m in \u001b[0;36m<module>\u001b[0;34m\u001b[0m\n\u001b[1;32m      5\u001b[0m \u001b[0mlister\u001b[0m\u001b[0;34m.\u001b[0m\u001b[0mappend\u001b[0m\u001b[0;34m(\u001b[0m\u001b[0mtensor_test_2\u001b[0m\u001b[0;34m)\u001b[0m\u001b[0;34m\u001b[0m\u001b[0;34m\u001b[0m\u001b[0m\n\u001b[1;32m      6\u001b[0m \u001b[0mnp\u001b[0m\u001b[0;34m.\u001b[0m\u001b[0msum\u001b[0m\u001b[0;34m(\u001b[0m\u001b[0;34m[\u001b[0m\u001b[0mi\u001b[0m \u001b[0;32mfor\u001b[0m \u001b[0mi\u001b[0m \u001b[0;32min\u001b[0m \u001b[0mtensor_test\u001b[0m\u001b[0;34m]\u001b[0m\u001b[0;34m,\u001b[0m \u001b[0;36m0\u001b[0m\u001b[0;34m)\u001b[0m\u001b[0;34m\u001b[0m\u001b[0;34m\u001b[0m\u001b[0m\n\u001b[0;32m----> 7\u001b[0;31m \u001b[0mlister\u001b[0m \u001b[0;34m=\u001b[0m \u001b[0mnp\u001b[0m\u001b[0;34m.\u001b[0m\u001b[0masarray\u001b[0m\u001b[0;34m(\u001b[0m\u001b[0mlister\u001b[0m\u001b[0;34m)\u001b[0m\u001b[0;34m\u001b[0m\u001b[0;34m\u001b[0m\u001b[0m\n\u001b[0m\u001b[1;32m      8\u001b[0m \u001b[0;31m#np.matrix.sum(tensor_test)\u001b[0m\u001b[0;34m\u001b[0m\u001b[0;34m\u001b[0m\u001b[0;34m\u001b[0m\u001b[0m\n\u001b[1;32m      9\u001b[0m \u001b[0mmock\u001b[0m \u001b[0;34m=\u001b[0m \u001b[0mnp\u001b[0m\u001b[0;34m.\u001b[0m\u001b[0masarray\u001b[0m\u001b[0;34m(\u001b[0m\u001b[0;34m[\u001b[0m\u001b[0;36m2\u001b[0m\u001b[0;34m,\u001b[0m\u001b[0;36m3\u001b[0m\u001b[0;34m]\u001b[0m\u001b[0;34m)\u001b[0m\u001b[0;34m\u001b[0m\u001b[0;34m\u001b[0m\u001b[0m\n",
      "\u001b[0;32m/usr/local/lib/python3.6/dist-packages/numpy/core/_asarray.py\u001b[0m in \u001b[0;36masarray\u001b[0;34m(a, dtype, order)\u001b[0m\n\u001b[1;32m     83\u001b[0m \u001b[0;34m\u001b[0m\u001b[0m\n\u001b[1;32m     84\u001b[0m     \"\"\"\n\u001b[0;32m---> 85\u001b[0;31m     \u001b[0;32mreturn\u001b[0m \u001b[0marray\u001b[0m\u001b[0;34m(\u001b[0m\u001b[0ma\u001b[0m\u001b[0;34m,\u001b[0m \u001b[0mdtype\u001b[0m\u001b[0;34m,\u001b[0m \u001b[0mcopy\u001b[0m\u001b[0;34m=\u001b[0m\u001b[0;32mFalse\u001b[0m\u001b[0;34m,\u001b[0m \u001b[0morder\u001b[0m\u001b[0;34m=\u001b[0m\u001b[0morder\u001b[0m\u001b[0;34m)\u001b[0m\u001b[0;34m\u001b[0m\u001b[0;34m\u001b[0m\u001b[0m\n\u001b[0m\u001b[1;32m     86\u001b[0m \u001b[0;34m\u001b[0m\u001b[0m\n\u001b[1;32m     87\u001b[0m \u001b[0;34m\u001b[0m\u001b[0m\n",
      "\u001b[0;31mValueError\u001b[0m: could not broadcast input array from shape (4,4,4) into shape (4,4)"
     ]
    }
   ],
   "source": [
    "tensor_test = 3 - np.ones((4,4,4))\n",
    "tensor_test_2 = np.ones((4,4))\n",
    "lister = []\n",
    "lister.append(tensor_test)\n",
    "lister.append(tensor_test_2)\n",
    "np.sum([i for i in tensor_test], 0)\n",
    "lister = np.asarray(lister)\n",
    "#np.matrix.sum(tensor_test)\n",
    "mock = np.asarray([2,3])\n",
    "print(lister[[0]][0][0]) #[mock]) #[0,1]) #[mock])"
   ]
  },
  {
   "cell_type": "code",
   "execution_count": 522,
   "metadata": {},
   "outputs": [
    {
     "name": "stdout",
     "output_type": "stream",
     "text": [
      "(4,)\n",
      "[[[0.1  0.2  0.3  0.4 ]\n",
      "  [0.1  0.2  0.3  0.4 ]\n",
      "  [0.1  0.2  0.3  0.4 ]\n",
      "  [0.1  0.2  0.3  0.4 ]]\n",
      "\n",
      " [[0.25 0.5  0.75 1.  ]\n",
      "  [0.25 0.5  0.75 1.  ]\n",
      "  [0.25 0.5  0.75 1.  ]\n",
      "  [0.25 0.5  0.75 1.  ]]\n",
      "\n",
      " [[0.25 0.5  0.75 1.  ]\n",
      "  [0.25 0.5  0.75 1.  ]\n",
      "  [0.25 0.5  0.75 1.  ]\n",
      "  [0.25 0.5  0.75 1.  ]]\n",
      "\n",
      " [[0.25 0.5  0.75 1.  ]\n",
      "  [0.25 0.5  0.75 1.  ]\n",
      "  [0.25 0.5  0.75 1.  ]\n",
      "  [0.25 0.5  0.75 1.  ]]]\n"
     ]
    }
   ],
   "source": [
    "tensor_test = 4 - np.ones((4,4,4))\n",
    "tensor_test[1] = [[1,2,3,4],[1,2,3,4],[1,2,3,4],[1,2,3,4]]\n",
    "test = [[1,2,3,4],[1,2,3,4],[1,2,3,4],[1,2,3,4]]\n",
    "tensor_test_2 = 3 - np.ones((4,4))\n",
    "np.power(tensor_test_2,tensor_test)\n",
    "vec = 1 + np.ones(4)\n",
    "vec[0] = 5\n",
    "print(vec.shape)\n",
    "thing = np.asarray([test / (2 * a) for a in vec])\n",
    "print(thing)"
   ]
  },
  {
   "cell_type": "code",
   "execution_count": 22,
   "metadata": {},
   "outputs": [
    {
     "data": {
      "text/plain": [
       "Text(0.5, 0, 'Threshold Value (unitless)')"
      ]
     },
     "execution_count": 22,
     "metadata": {},
     "output_type": "execute_result"
    },
    {
     "data": {
      "image/png": "[encoded data removed]",
      "text/plain": [
       "<Figure size 432x288 with 1 Axes>"
      ]
     },
     "metadata": {
      "needs_background": "light"
     },
     "output_type": "display_data"
    }
   ],
   "source": [
    "frac_array = [1, 1, 1, 1, 1, .95, .95, .95, .95, .95, .95, .95, .95, .90, .9, .9, .9, .9, .9, .9, .85, .85, .85, .85, .85, .85, 0.80, 0.75, 0.75, 0.75, 0.75, 0.75]\n",
    "plt.plot(c, frac_array)\n",
    "plt.title(\"200 SBMs, 2 classes each with 100 graphs\")\n",
    "plt.ylabel(\"Fraction of Subgraph (unitless)\")\n",
    "plt.xlabel(\"Threshold Value (unitless)\")"
   ]
  }
 ],
 "metadata": {
  "kernelspec": {
   "display_name": "Python 3",
   "language": "python",
   "name": "python3"
  },
  "language_info": {
   "codemirror_mode": {
    "name": "ipython",
    "version": 3
   },
   "file_extension": ".py",
   "mimetype": "text/x-python",
   "name": "python",
   "nbconvert_exporter": "python",
   "pygments_lexer": "ipython3",
   "version": "3.6.8"
  }
 },
 "nbformat": 4,
 "nbformat_minor": 2
}

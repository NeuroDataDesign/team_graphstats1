{
 "cells": [
  {
   "cell_type": "code",
   "execution_count": 1591,
   "metadata": {},
   "outputs": [],
   "source": [
    "#Dependencies\n",
    "import graspy\n",
    "import pdb\n",
    "import myModule\n",
    "from mgcpy.independence_tests.mgc import MGC\n",
    "from mgcpy.independence_tests.dcorr import DCorr\n",
    "from mgcpy.independence_tests.rv_corr import RVCorr\n",
    "import numpy as np\n",
    "import pandas as pd\n",
    "import matplotlib.pyplot as plt\n",
    "import scipy as sp\n",
    "import random\n",
    "%matplotlib inline\n",
    "from graspy.simulations import sbm\n",
    "from graspy.plot import heatmap\n",
    "np.random.seed(10)\n",
    "\n",
    "#Generating simulation/test data\n",
    "def data_generator(num_graphs, N, ss_N, p_0, p_1, percent_0,  percent_1):\n",
    "    \n",
    "    #Create empty tensor for data to be added to,\n",
    "    #as well as tensors to store each data type\n",
    "    num_0 = int(num_graphs * percent_0)\n",
    "    num_1 = int(num_graphs * percent_1)\n",
    "    type_0 = np.zeros((num_graphs,N,N))\n",
    "    type_1 = np.zeros((num_graphs,N,N))\n",
    "    data = np.zeros((num_graphs,N,N))\n",
    "    p_data = np.zeros((num_graphs,N,N))\n",
    "    y_label = np.zeros((1,num_graphs))\n",
    "    n = [ss_N, N - ss_N]\n",
    "    \n",
    "    #This creates test data\n",
    "    L_ind = random.sample(range(0, num_graphs), num_graphs)\n",
    "    \n",
    "    for i in range(len(data)):\n",
    "        type_0[i] = sbm(n=n, p=p_0)\n",
    "        type_1[i] = sbm(n=n, p=p_1)\n",
    "    \n",
    "    type_0[L_ind[num_0:]] = np.zeros((N, N))\n",
    "    type_1[L_ind[:num_0]] = np.zeros((N, N))\n",
    "    \n",
    "    data[L_ind[:num_0]] = type_0[L_ind[:num_0]]\n",
    "    data[L_ind[num_0:]] = type_1[L_ind[num_0:]]\n",
    "    \n",
    "    y_label[0,L_ind[:num_0]] = 0\n",
    "    y_label[0,L_ind[num_0:]] = 1\n",
    "    y_label = y_label.astype(int)\n",
    "    y_label = y_label[0]\n",
    "    \n",
    "    type_0 = type_0[L_ind[:num_0]]\n",
    "    type_1 = type_1[L_ind[num_0:]]\n",
    "    \n",
    "    p_data[L_ind[num_0:],:ss_N,:ss_N] = p_0[0][0]\n",
    "    p_data[L_ind[num_0:],:ss_N,ss_N:] = p_0[0][1]\n",
    "    p_data[L_ind[num_0:],ss_N:,:ss_N] = p_0[1][0]\n",
    "    p_data[L_ind[num_0:],ss_N:,ss_N:] = p_0[1][1]\n",
    "    p_data[L_ind[:num_0],:ss_N,:ss_N] = p_1[0][0]\n",
    "    p_data[L_ind[:num_0],:ss_N,ss_N:] = p_1[0][1]\n",
    "    p_data[L_ind[:num_0],ss_N:,:ss_N] = p_1[1][0]\n",
    "    p_data[L_ind[:num_0],ss_N:,ss_N:] = p_1[1][1]\n",
    "    \n",
    "    data_0 = np.subtract(np.power(p_data, data), p_data)\n",
    "    data_1 = np.multiply(data, p_data)\n",
    "    prob_data = data_0 + data_1\n",
    "    prob_data_0 = prob_data[L_ind[num_0:]]\n",
    "    prob_data_1 = prob_data[L_ind[:num_0]]\n",
    "    \n",
    "    p_tensor = np.zeros((2, N, N))\n",
    "    mat_0 = np.zeros((N, N))\n",
    "    mat_0[:ss_N,:ss_N] = p_0[0][0]\n",
    "    mat_0[:ss_N,ss_N:] = p_0[0][1]\n",
    "    mat_0[ss_N:,:ss_N] = p_0[1][0]\n",
    "    mat_0[ss_N:,ss_N:] = p_0[1][1]\n",
    "    p_tensor[0] = mat_0\n",
    "    mat_1 = np.zeros((N, N))\n",
    "    mat_1[:ss_N,:ss_N] = p_1[0][0]\n",
    "    mat_1[:ss_N,ss_N:] = p_1[0][1]\n",
    "    mat_1[ss_N:,:ss_N] = p_1[1][0]\n",
    "    mat_1[ss_N:,ss_N:] = p_1[1][1]\n",
    "    p_tensor[1] = mat_1\n",
    "    \n",
    "    \n",
    "    return type_0, type_1, data, prob_data, prob_data_0, prob_data_1, y_label, p_tensor\n",
    "\n",
    "def classifier_method(num_graphs, N, percent_0, percent_1, tensor_0, tensor_1, ss_m_n, A):\n",
    "    ones = np.ones(N)\n",
    "    A_complement = ones - A\n",
    "    \n",
    "    num_0 = (percent_0 * num_graphs)\n",
    "    num_1 = (percent_1 * num_graphs)\n",
    "    \n",
    "    #frac_0 = (num_0)**(-1)\n",
    "    #frac_1 = (num_1)**(-1)\n",
    "    \n",
    "    #p_hat_0 = np.multiply(np.sum(tensor_0, axis=0), frac_0)\n",
    "    #p_hat_1 = np.multiply(np.sum(tensor_1, axis=0), frac_1)\n",
    "    #p_hat_0_complement = ones - p_hat_0\n",
    "    #p_hat_1_complement = ones - p_hat_1\n",
    "    \n",
    "    tensor_0_complement = ones - tensor_0\n",
    "    tensor_1_complement = ones - tensor_1\n",
    "    \n",
    "    prod_0 = np.multiply(np.power(tensor_0[ss_m_n], A[ss_m_n]), np.power(tensor_0_complement[ss_m_n], A_complement[ss_m_n]))\n",
    "    #print(prod_0)\n",
    "    prod_1 = np.multiply(np.power(tensor_1[ss_m_n], A[ss_m_n]), np.power(tensor_1_complement[ss_m_n], A_complement[ss_m_n]))\n",
    "    #print(prod_0[ss_m_n])\n",
    "    prob_0 = np.prod(prod_0)\n",
    "    prob_1 = np.prod(prod_1)\n",
    "    \n",
    "    val = float((percent_0 / percent_1) * np.prod(np.true_divide(prod_0, prod_1)))\n",
    "    \n",
    "    #class_prob_0 = percent_0 * prob_0\n",
    "    #class_prob_1 = percent_1 * prob_1\n",
    "    #val = float(class_prob_0 / class_prob_1)\n",
    "    if val >= 1.0:\n",
    "        label = 0\n",
    "    else:\n",
    "        label = 1\n",
    "    \n",
    "    #print(val)\n",
    "    return label\n",
    "    \n",
    "def non_iterative_screen(a_tensor, N, y_labels, c, opt):\n",
    "\n",
    "    '''\n",
    "    Performs iterative screening on graphs.\n",
    "\n",
    "    Parameters\n",
    "\n",
    "    ----------\n",
    "    \n",
    "    a_tensor: tensor of adjacency matrices that are going to be used for signal subgraph.\n",
    "\n",
    "    mat_n_m: Length/width of the adjacency matrices in the dictionary\n",
    "    \n",
    "    y_labels: the vector of labels.\n",
    "    \n",
    "    c: the correlation threshold value.\n",
    "    \n",
    "    opt: indicator of whether to use dcorr or mgc\n",
    "\n",
    "    Returns\n",
    "\n",
    "    -------\n",
    "\n",
    "    values_flags: the signal subgraph of a_matrix, found through non-iterative\n",
    "\n",
    "    vertex screening.\n",
    "    '''\n",
    "    mgc = MGC()\n",
    "    dcorr = DCorr(which_test = 'unbiased')\n",
    "    rvcorr = RVCorr()\n",
    "    count = len(a_tensor)\n",
    "    S_hat = np.zeros((count,1))\n",
    "    \n",
    "    #Creates matrices by stacking the nth rows on top of each other and running mgc on those with their \n",
    "    #corresponding labels.\n",
    "    for i in range(len(a_tensor)):\n",
    "        mat = a_tensor[:,i]\n",
    "        #data[y_label_class[:,0].astype(int)][0]\n",
    "        if opt == \"mgc\":\n",
    "            c_u_0, independence_test_metadata_0 = mgc.test_statistic(mat, y_labels)\n",
    "            S_hat[i][0] = c_u_0\n",
    "        elif opt == \"dcorr\":\n",
    "            c_u_1, independence_test_metadata_1 = dcorr.test_statistic(mat, y_labels)\n",
    "            S_hat[i][0] = c_u_1\n",
    "        else:\n",
    "            c_u_2, independence_test_metadata_1 = rvcorr.test_statistic(mat, y_labels)\n",
    "            S_hat[i][0] = c_u_2\n",
    "    \n",
    "    S_hat = np.absolute(S_hat)\n",
    "    S_hat = S_hat[:,0]\n",
    "    #as_vec = np.sort(S_hat.reshape(1,200)).reshape(200,1)\n",
    "    #list_comp = as_vec[-20:]\n",
    "    #values_flags = []\n",
    "    #for i in range(20):\n",
    "    #    values_flags.append(np.where(S_hat == list_comp[i])[0][0])\n",
    "    largest = S_hat.argsort()[-20:][::-1]\n",
    "    values_flags = np.nonzero(S_hat > c)\n",
    "    \n",
    "    return values_flags[0][:] #, largest\n",
    "    \n",
    "\n",
    "def iterative_screen(a_tensor, N, y_labels, delta, opt):\n",
    "\n",
    "    '''\n",
    "    Performs iterative screening on graphs.\n",
    "\n",
    "    Parameters\n",
    "\n",
    "    ----------\n",
    "    \n",
    "    a_tensor: tensor of adjacency matrices that are going to be used for signal subgraph.\n",
    "\n",
    "    mat_n_m: Length/width of the adjacency matrices in the dictionary\n",
    "    \n",
    "    y_labels: the vector of labels.\n",
    "    \n",
    "    delta: quantile to be screened\n",
    "    \n",
    "    opt: indicator of whether to use dcorr or mgc\n",
    "\n",
    "    Returns\n",
    "\n",
    "    -------\n",
    "\n",
    "    values_flags: the signal subgraph of a_matrix, found through non-iterative\n",
    "\n",
    "    vertex screening.\n",
    "    '''\n",
    "    mgc = MGC()\n",
    "    dcorr = DCorr(which_test = 'unbiased')\n",
    "    rvcorr = RVCorr()\n",
    "    count = len(a_tensor)\n",
    "    S_hat = np.zeros((count,1))\n",
    "    \n",
    "    V = np.arange(200)\n",
    "    \n",
    "    while V.size > 1:\n",
    "        c_u_list = []\n",
    "        for i in V:\n",
    "            c_u, independence_test_metadata = mgc.test_statistic(a_tensor[:,i], y_labels)\n",
    "            c_u_list.append(abs(c_u))\n",
    "        t_k = np.quantile(c_u_list, .50, axis = 0)\n",
    "        ind = [i for i,j in enumerate(c_u_list) if j > t_k]\n",
    "        V = V[ind]\n",
    "        print(V)\n",
    "\n",
    "    c_k, independence_test_metadata = mgc.test_statistic(a_tensor[:,V[0]], y_labels)\n",
    "    #k_* = np.argmax()\n",
    "    \n",
    "    return V, c_k"
   ]
  },
  {
   "cell_type": "code",
   "execution_count": 1499,
   "metadata": {},
   "outputs": [
    {
     "data": {
      "text/plain": [
       "<matplotlib.axes._subplots.AxesSubplot at 0x7f4e41abd278>"
      ]
     },
     "execution_count": 1499,
     "metadata": {},
     "output_type": "execute_result"
    },
    {
     "data": {
      "image/png": "[encoded data removed]",
      "text/plain": [
       "<Figure size 720x720 with 2 Axes>"
      ]
     },
     "metadata": {
      "needs_background": "light"
     },
     "output_type": "display_data"
    },
    {
     "data": {
      "text/plain": [
       "<Figure size 432x288 with 0 Axes>"
      ]
     },
     "metadata": {},
     "output_type": "display_data"
    },
    {
     "data": {
      "image/png": "[encoded data removed]",
      "text/plain": [
       "<Figure size 720x720 with 2 Axes>"
      ]
     },
     "metadata": {
      "needs_background": "light"
     },
     "output_type": "display_data"
    }
   ],
   "source": [
    "# Make Simulation Data\n",
    "p_matrix_female = [[.3, .2], [.2, .3]]\n",
    "p_matrix_male = [[.4, .2], [.2, .3]]\n",
    "\n",
    "female, male, data, p_data, p_data_female, p_data_male, y_label, p_types = data_generator(100, 200, 20, p_matrix_female, p_matrix_male, 0.50, 0.50)\n",
    "y_label_class = y_label.reshape(100,1).astype(float)\n",
    "\n",
    "# Plot\n",
    "heatmap(data[0], title='Male Graph Simulation')\n",
    "\n",
    "plt.figure()\n",
    "heatmap(data[1], title='Female Graph Simulation')"
   ]
  },
  {
   "cell_type": "code",
   "execution_count": 1570,
   "metadata": {},
   "outputs": [],
   "source": [
    "import sklearn.metrics as metrics\n",
    "c = np.linspace(0.03, 0, num=16)\n",
    "#c = [0.001, 0.005, 0.01, 0.015, 0.020, 0.025]\n",
    "tensor_labels = np.zeros((16, 1, 100))\n",
    "counter = 0\n",
    "for i in c:\n",
    "    test_labels = []\n",
    "    ss_m_n = non_iterative_screen(data, 200, y_label_class, i, \"mgc\")\n",
    "    for j in range(len(data)):\n",
    "        test_labels.append(classifier_method(100, 200, .50, .50, p_types[0], p_types[1], ss_m_n, data[j]))\n",
    "    tensor_labels[counter] = test_labels\n",
    "    counter += 1\n",
    "    \n",
    "#print(s_hat)    \n",
    "#print(tensor_labels)"
   ]
  },
  {
   "cell_type": "code",
   "execution_count": 1571,
   "metadata": {},
   "outputs": [
    {
     "name": "stdout",
     "output_type": "stream",
     "text": [
      "[0.        0.7173913 1.       ]\n",
      "0\n",
      "[0.         0.73333333 1.        ]\n",
      "1\n",
      "[0.         0.83333333 1.        ]\n",
      "2\n",
      "[0.         0.83333333 1.        ]\n",
      "3\n",
      "[0.         0.83333333 1.        ]\n",
      "4\n",
      "[0.    0.925 1.   ]\n",
      "5\n",
      "[0.    0.975 1.   ]\n",
      "6\n",
      "[0.         0.95555556 1.        ]\n",
      "7\n",
      "[0.         0.95555556 1.        ]\n",
      "8\n",
      "[0. 1. 1.]\n",
      "9\n",
      "[0. 1. 1.]\n",
      "10\n",
      "[0. 1. 1.]\n",
      "11\n",
      "[0.         0.97727273 1.        ]\n",
      "12\n",
      "[0.         0.97727273 1.        ]\n",
      "13\n",
      "[0.         0.97619048 1.        ]\n",
      "14\n",
      "[0.         0.97727273 1.        ]\n",
      "15\n",
      "0.9261363636363636\n"
     ]
    },
    {
     "data": {
      "text/plain": [
       "[<matplotlib.lines.Line2D at 0x7f4e408b2b70>]"
      ]
     },
     "execution_count": 1571,
     "metadata": {},
     "output_type": "execute_result"
    },
    {
     "data": {
      "image/png": "[encoded data removed]",
      "text/plain": [
       "<Figure size 432x288 with 1 Axes>"
      ]
     },
     "metadata": {
      "needs_background": "light"
     },
     "output_type": "display_data"
    }
   ],
   "source": [
    "false_pos_list = []\n",
    "true_pos_list = []\n",
    "for i in range(len(tensor_labels)):\n",
    "    list_test_labels = np.ndarray.tolist(tensor_labels[i][0])\n",
    "    list_test_labels = [int(i) for i in list_test_labels]\n",
    "    fpr, tpr, threshold = metrics.roc_curve(list_test_labels, y_label)\n",
    "    print(tpr)\n",
    "    print(i)\n",
    "    false_pos_list.append(fpr[1])\n",
    "    true_pos_list.append(tpr[1])\n",
    "\n",
    "print(metrics.auc(fpr, tpr))\n",
    "plt.plot(false_pos_list, true_pos_list)"
   ]
  },
  {
   "cell_type": "code",
   "execution_count": 1592,
   "metadata": {},
   "outputs": [
    {
     "name": "stdout",
     "output_type": "stream",
     "text": [
      "[  0   2   4   6   9  10  11  12  13  14  15  16  17  20  21  23  25  26\n",
      "  29  32  37  38  39  40  48  49  50  54  56  57  59  60  68  70  72  73\n",
      "  75  76  80  82  84  86  88  89  90  92  93  96  98  99 100 101 102 104\n",
      " 107 108 110 111 112 113 114 115 117 118 120 126 128 129 131 132 136 137\n",
      " 138 139 140 143 145 150 152 153 154 155 157 158 159 162 165 167 171 173\n",
      " 174 178 179 181 185 189 192 194 196 197]\n",
      "[  0   4   6  10  11  12  13  14  15  17  20  21  26  32  48  60  73  89\n",
      "  90  92  98  99 100 101 104 107 108 111 113 114 115 118 120 126 129 131\n",
      " 136 137 145 150 153 155 158 167 173 174 185 192 194 196]\n",
      "[  0   4  10  11  15  60  73  90  92  99 100 107 111 113 118 126 129 131\n",
      " 136 137 173 174 185 192 196]\n",
      "[  0   4  10  15  60  73  90  99 100 111 185 196]\n",
      "[  0   4  60  90  99 100]\n",
      "[ 0 90 99]\n",
      "[0]\n"
     ]
    },
    {
     "data": {
      "text/plain": [
       "(array([0]), 0.06666918141386818)"
      ]
     },
     "execution_count": 1592,
     "metadata": {},
     "output_type": "execute_result"
    }
   ],
   "source": [
    "iterative_screen(data, 200, y_label.reshape(100,1), 0.05, \"mgc\")"
   ]
  },
  {
   "cell_type": "code",
   "execution_count": 1593,
   "metadata": {},
   "outputs": [
    {
     "data": {
      "text/plain": [
       "array([ 0,  4,  6, 10, 11, 12, 13, 14, 15, 20, 26, 60, 73, 89])"
      ]
     },
     "execution_count": 1593,
     "metadata": {},
     "output_type": "execute_result"
    }
   ],
   "source": [
    "non_iterative_screen(data, 200, y_label_class, 0.092, \"cca\")"
   ]
  },
  {
   "cell_type": "code",
   "execution_count": 1594,
   "metadata": {},
   "outputs": [
    {
     "data": {
      "text/plain": [
       "array([ 0,  4, 10, 11, 14, 15, 21, 48, 60, 73, 89, 90, 92])"
      ]
     },
     "execution_count": 1594,
     "metadata": {},
     "output_type": "execute_result"
    }
   ],
   "source": [
    "non_iterative_screen(data, 200, y_label_class, 0.02, \"dcorr\")"
   ]
  },
  {
   "cell_type": "code",
   "execution_count": 1595,
   "metadata": {},
   "outputs": [
    {
     "data": {
      "text/plain": [
       "array([ 0,  4, 10, 11, 14, 15, 21, 48, 60, 73, 90, 92, 99])"
      ]
     },
     "execution_count": 1595,
     "metadata": {},
     "output_type": "execute_result"
    }
   ],
   "source": [
    "non_iterative_screen(data, 200, y_label_class, 0.02, \"mgc\")"
   ]
  }
 ],
 "metadata": {
  "kernelspec": {
   "display_name": "Python 3",
   "language": "python",
   "name": "python3"
  },
  "language_info": {
   "codemirror_mode": {
    "name": "ipython",
    "version": 3
   },
   "file_extension": ".py",
   "mimetype": "text/x-python",
   "name": "python",
   "nbconvert_exporter": "python",
   "pygments_lexer": "ipython3",
   "version": "3.6.8"
  }
 },
 "nbformat": 4,
 "nbformat_minor": 2
}

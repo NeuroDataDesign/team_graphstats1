{
 "cells": [
  {
   "cell_type": "code",
   "execution_count": null,
   "metadata": {},
   "outputs": [],
   "source": [
    "# Beginning of Cross Validation\n",
    "from sklearn.model_selection import KFold\n",
    "\n",
    "def cross_validation_function(X, Y, parameters_grid, methodname = \"\", \n",
    "                              train_classifier, test_classifier,\n",
    "                              algorithm_parameters = \"\",\n",
    "                              folds = 5, fold_list = NULL, \n",
    "                              parallel = F, num_clusters, windows = F, \n",
    "                              nested_cv = F, save_files = F, filename = \"\", sparsity_results=F) {\n",
    "  \n",
    "    kf = KFold(n_splits=folds, shuffle=True)\n",
    "    kf.get_n_splits(train_classifier)\n",
    "    for train_index, test_index in kf.split(train_classifier):\n",
    "      x_train, x_test = train_classifier.iloc[train_index], train_classifier.iloc[test_index]\n",
    "      y_train, y_test = train_set_labels.iloc[train_index], train_set_labels[test_index]\n",
    "      fit = lm.SGDClassifier(loss='log',penalty='l1',alpha=i,shuffle=True).fit(x_train, y_train)\n",
    "      probs = fit.decision_function(x)    \n",
    "\n",
    "# Going to implement ability for parallel processing later"
   ]
  }
 ],
 "metadata": {
  "kernelspec": {
   "display_name": "Python 3",
   "language": "python",
   "name": "python3"
  },
  "language_info": {
   "codemirror_mode": {
    "name": "ipython",
    "version": 3
   },
   "file_extension": ".py",
   "mimetype": "text/x-python",
   "name": "python",
   "nbconvert_exporter": "python",
   "pygments_lexer": "ipython3",
   "version": "3.6.8"
  }
 },
 "nbformat": 4,
 "nbformat_minor": 2
}

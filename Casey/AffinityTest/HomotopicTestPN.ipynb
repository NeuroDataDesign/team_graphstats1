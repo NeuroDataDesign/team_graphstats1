{
 "metadata": {
  "language_info": {
   "codemirror_mode": {
    "name": "ipython",
    "version": 3
   },
   "file_extension": ".py",
   "mimetype": "text/x-python",
   "name": "python",
   "nbconvert_exporter": "python",
   "pygments_lexer": "ipython3",
   "version": "3.7.6-final"
  },
  "orig_nbformat": 2,
  "kernelspec": {
   "name": "python3",
   "display_name": "Python 3.7.6 64-bit ('NDD': conda)",
   "metadata": {
    "interpreter": {
     "hash": "8a44edf0a265b0cf7dbc11f16448f3e0254921179cd3cfbd73ae2c00cfc65fd6"
    }
   }
  }
 },
 "nbformat": 4,
 "nbformat_minor": 2,
 "cells": [
  {
   "cell_type": "code",
   "execution_count": 1,
   "metadata": {},
   "outputs": [
    {
     "output_type": "execute_result",
     "data": {
      "text/plain": [
       "        Unnamed: 0  1a PN left  1a PN right  13a PN left  13a PN right  \\\n",
       "0       1a PN left           0            0            0             0   \n",
       "1      1a PN right           0            0            0             0   \n",
       "2      13a PN left           0            0            0             0   \n",
       "3     13a PN right           0            0            0             1   \n",
       "4      22c PN left           0            0            0             0   \n",
       "..             ...         ...          ...          ...           ...   \n",
       "382  MBON-p1 right           0            0            0             0   \n",
       "383   MBON-q1 left           0            0            0             0   \n",
       "384  MBON-q1 right           0            0            0             0   \n",
       "385       APL left           2            0            0             0   \n",
       "386      APL right           0            2            0             0   \n",
       "\n",
       "     22c PN left  22c PN right  24a PN left  24a PN right  30a PN left  ...  \\\n",
       "0              0             0            0             0            0  ...   \n",
       "1              0             1            0             3            0  ...   \n",
       "2              0             0            0             0            0  ...   \n",
       "3              0             0            0             1            0  ...   \n",
       "4              0             0            0             0            0  ...   \n",
       "..           ...           ...          ...           ...          ...  ...   \n",
       "382            0             0            0             0            0  ...   \n",
       "383            0             0            0             0            0  ...   \n",
       "384            0             0            0             0            0  ...   \n",
       "385            7             0            3             0            0  ...   \n",
       "386            0             7            0             4            0  ...   \n",
       "\n",
       "     MBON-n1 left  MBON-n1 right  MBON-o1 left  MBON-o1 right  MBON-p1 left  \\\n",
       "0               0              0             0              0             0   \n",
       "1               0              0             0              0             0   \n",
       "2               0              0             0              0             0   \n",
       "3               0              0             0              0             0   \n",
       "4               0              0             0              0             0   \n",
       "..            ...            ...           ...            ...           ...   \n",
       "382             0              0             0              0             0   \n",
       "383             1             12             0              0             0   \n",
       "384             0              0             0              0             0   \n",
       "385             0              0             0              0             0   \n",
       "386             0              0             0              0             0   \n",
       "\n",
       "     MBON-p1 right  MBON-q1 left  MBON-q1 right  APL left  APL right  \n",
       "0                0             0              0         0          2  \n",
       "1                0             0              0         0          0  \n",
       "2                0             0              0         0          0  \n",
       "3                0             0              0         0          0  \n",
       "4                0             0              0         0          0  \n",
       "..             ...           ...            ...       ...        ...  \n",
       "382              0             0              0         3          0  \n",
       "383              1             0              0         0          7  \n",
       "384              0             2              0         3          0  \n",
       "385              0             0              0         0          1  \n",
       "386              0             0              0         1          0  \n",
       "\n",
       "[387 rows x 388 columns]"
      ],
      "text/html": "<div>\n<style scoped>\n    .dataframe tbody tr th:only-of-type {\n        vertical-align: middle;\n    }\n\n    .dataframe tbody tr th {\n        vertical-align: top;\n    }\n\n    .dataframe thead th {\n        text-align: right;\n    }\n</style>\n<table border=\"1\" class=\"dataframe\">\n  <thead>\n    <tr style=\"text-align: right;\">\n      <th></th>\n      <th>Unnamed: 0</th>\n      <th>1a PN left</th>\n      <th>1a PN right</th>\n      <th>13a PN left</th>\n      <th>13a PN right</th>\n      <th>22c PN left</th>\n      <th>22c PN right</th>\n      <th>24a PN left</th>\n      <th>24a PN right</th>\n      <th>30a PN left</th>\n      <th>...</th>\n      <th>MBON-n1 left</th>\n      <th>MBON-n1 right</th>\n      <th>MBON-o1 left</th>\n      <th>MBON-o1 right</th>\n      <th>MBON-p1 left</th>\n      <th>MBON-p1 right</th>\n      <th>MBON-q1 left</th>\n      <th>MBON-q1 right</th>\n      <th>APL left</th>\n      <th>APL right</th>\n    </tr>\n  </thead>\n  <tbody>\n    <tr>\n      <th>0</th>\n      <td>1a PN left</td>\n      <td>0</td>\n      <td>0</td>\n      <td>0</td>\n      <td>0</td>\n      <td>0</td>\n      <td>0</td>\n      <td>0</td>\n      <td>0</td>\n      <td>0</td>\n      <td>...</td>\n      <td>0</td>\n      <td>0</td>\n      <td>0</td>\n      <td>0</td>\n      <td>0</td>\n      <td>0</td>\n      <td>0</td>\n      <td>0</td>\n      <td>0</td>\n      <td>2</td>\n    </tr>\n    <tr>\n      <th>1</th>\n      <td>1a PN right</td>\n      <td>0</td>\n      <td>0</td>\n      <td>0</td>\n      <td>0</td>\n      <td>0</td>\n      <td>1</td>\n      <td>0</td>\n      <td>3</td>\n      <td>0</td>\n      <td>...</td>\n      <td>0</td>\n      <td>0</td>\n      <td>0</td>\n      <td>0</td>\n      <td>0</td>\n      <td>0</td>\n      <td>0</td>\n      <td>0</td>\n      <td>0</td>\n      <td>0</td>\n    </tr>\n    <tr>\n      <th>2</th>\n      <td>13a PN left</td>\n      <td>0</td>\n      <td>0</td>\n      <td>0</td>\n      <td>0</td>\n      <td>0</td>\n      <td>0</td>\n      <td>0</td>\n      <td>0</td>\n      <td>0</td>\n      <td>...</td>\n      <td>0</td>\n      <td>0</td>\n      <td>0</td>\n      <td>0</td>\n      <td>0</td>\n      <td>0</td>\n      <td>0</td>\n      <td>0</td>\n      <td>0</td>\n      <td>0</td>\n    </tr>\n    <tr>\n      <th>3</th>\n      <td>13a PN right</td>\n      <td>0</td>\n      <td>0</td>\n      <td>0</td>\n      <td>1</td>\n      <td>0</td>\n      <td>0</td>\n      <td>0</td>\n      <td>1</td>\n      <td>0</td>\n      <td>...</td>\n      <td>0</td>\n      <td>0</td>\n      <td>0</td>\n      <td>0</td>\n      <td>0</td>\n      <td>0</td>\n      <td>0</td>\n      <td>0</td>\n      <td>0</td>\n      <td>0</td>\n    </tr>\n    <tr>\n      <th>4</th>\n      <td>22c PN left</td>\n      <td>0</td>\n      <td>0</td>\n      <td>0</td>\n      <td>0</td>\n      <td>0</td>\n      <td>0</td>\n      <td>0</td>\n      <td>0</td>\n      <td>0</td>\n      <td>...</td>\n      <td>0</td>\n      <td>0</td>\n      <td>0</td>\n      <td>0</td>\n      <td>0</td>\n      <td>0</td>\n      <td>0</td>\n      <td>0</td>\n      <td>0</td>\n      <td>0</td>\n    </tr>\n    <tr>\n      <th>...</th>\n      <td>...</td>\n      <td>...</td>\n      <td>...</td>\n      <td>...</td>\n      <td>...</td>\n      <td>...</td>\n      <td>...</td>\n      <td>...</td>\n      <td>...</td>\n      <td>...</td>\n      <td>...</td>\n      <td>...</td>\n      <td>...</td>\n      <td>...</td>\n      <td>...</td>\n      <td>...</td>\n      <td>...</td>\n      <td>...</td>\n      <td>...</td>\n      <td>...</td>\n      <td>...</td>\n    </tr>\n    <tr>\n      <th>382</th>\n      <td>MBON-p1 right</td>\n      <td>0</td>\n      <td>0</td>\n      <td>0</td>\n      <td>0</td>\n      <td>0</td>\n      <td>0</td>\n      <td>0</td>\n      <td>0</td>\n      <td>0</td>\n      <td>...</td>\n      <td>0</td>\n      <td>0</td>\n      <td>0</td>\n      <td>0</td>\n      <td>0</td>\n      <td>0</td>\n      <td>0</td>\n      <td>0</td>\n      <td>3</td>\n      <td>0</td>\n    </tr>\n    <tr>\n      <th>383</th>\n      <td>MBON-q1 left</td>\n      <td>0</td>\n      <td>0</td>\n      <td>0</td>\n      <td>0</td>\n      <td>0</td>\n      <td>0</td>\n      <td>0</td>\n      <td>0</td>\n      <td>0</td>\n      <td>...</td>\n      <td>1</td>\n      <td>12</td>\n      <td>0</td>\n      <td>0</td>\n      <td>0</td>\n      <td>1</td>\n      <td>0</td>\n      <td>0</td>\n      <td>0</td>\n      <td>7</td>\n    </tr>\n    <tr>\n      <th>384</th>\n      <td>MBON-q1 right</td>\n      <td>0</td>\n      <td>0</td>\n      <td>0</td>\n      <td>0</td>\n      <td>0</td>\n      <td>0</td>\n      <td>0</td>\n      <td>0</td>\n      <td>0</td>\n      <td>...</td>\n      <td>0</td>\n      <td>0</td>\n      <td>0</td>\n      <td>0</td>\n      <td>0</td>\n      <td>0</td>\n      <td>2</td>\n      <td>0</td>\n      <td>3</td>\n      <td>0</td>\n    </tr>\n    <tr>\n      <th>385</th>\n      <td>APL left</td>\n      <td>2</td>\n      <td>0</td>\n      <td>0</td>\n      <td>0</td>\n      <td>7</td>\n      <td>0</td>\n      <td>3</td>\n      <td>0</td>\n      <td>0</td>\n      <td>...</td>\n      <td>0</td>\n      <td>0</td>\n      <td>0</td>\n      <td>0</td>\n      <td>0</td>\n      <td>0</td>\n      <td>0</td>\n      <td>0</td>\n      <td>0</td>\n      <td>1</td>\n    </tr>\n    <tr>\n      <th>386</th>\n      <td>APL right</td>\n      <td>0</td>\n      <td>2</td>\n      <td>0</td>\n      <td>0</td>\n      <td>0</td>\n      <td>7</td>\n      <td>0</td>\n      <td>4</td>\n      <td>0</td>\n      <td>...</td>\n      <td>0</td>\n      <td>0</td>\n      <td>0</td>\n      <td>0</td>\n      <td>0</td>\n      <td>0</td>\n      <td>0</td>\n      <td>0</td>\n      <td>1</td>\n      <td>0</td>\n    </tr>\n  </tbody>\n</table>\n<p>387 rows × 388 columns</p>\n</div>"
     },
     "metadata": {},
     "execution_count": 1
    }
   ],
   "source": [
    "import numpy as np\n",
    "import pandas as pd\n",
    "import networkx as nx\n",
    "\n",
    "G = pd.read_csv('MBLarvaConnectivity.csv')\n",
    "\n",
    "G"
   ]
  },
  {
   "cell_type": "code",
   "execution_count": 2,
   "metadata": {},
   "outputs": [],
   "source": [
    "G = G.to_numpy()[:, 1:]"
   ]
  },
  {
   "cell_type": "code",
   "execution_count": 3,
   "metadata": {},
   "outputs": [
    {
     "output_type": "execute_result",
     "data": {
      "text/plain": [
       "(387, 387)"
      ]
     },
     "metadata": {},
     "execution_count": 3
    }
   ],
   "source": [
    "G.shape"
   ]
  },
  {
   "cell_type": "code",
   "execution_count": 6,
   "metadata": {},
   "outputs": [],
   "source": [
    "from affinity_test import affinity_test"
   ]
  },
  {
   "cell_type": "code",
   "execution_count": 7,
   "metadata": {},
   "outputs": [
    {
     "output_type": "execute_result",
     "data": {
      "text/plain": [
       "DefinedContingencyTable(con_table=array([[0.8626943 , 0.1373057 ],\n",
       "       [0.88628559, 0.11371441]]), pvalue=1.0)"
      ]
     },
     "metadata": {},
     "execution_count": 7
    }
   ],
   "source": [
    "affinity_test(G, \"homotopic\")"
   ]
  },
  {
   "cell_type": "code",
   "execution_count": 8,
   "metadata": {},
   "outputs": [
    {
     "output_type": "execute_result",
     "data": {
      "text/plain": [
       "DefinedContingencyTable(con_table=array([[0.86509705, 0.13490295],\n",
       "       [0.89321898, 0.10678102]]), pvalue=1.0)"
      ]
     },
     "metadata": {},
     "execution_count": 8
    }
   ],
   "source": [
    "affinity_test(G, \"homophilic\")"
   ]
  },
  {
   "cell_type": "code",
   "execution_count": 9,
   "metadata": {},
   "outputs": [],
   "source": [
    "# To-Do: Reorder vertices so p-values make sense\n",
    "\n",
    "for i in range(len(G)):\n",
    "    for j in range(len(G[0])):\n",
    "        G[i, :]"
   ]
  }
 ]
}
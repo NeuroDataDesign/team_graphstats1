{
  "cells": [
    {
      "cell_type": "code",
      "metadata": {},
      "source": [
        "import graspy\n",
        "%matplotlib inline\n",
        "\n",
        "import matplotlib.pyplot as pyplot\n",
        "import numpy as np\n",
        "\n",
        "from graspy.simulations import sbm\n",
        "\n",
        "n = [50,50]\n",
        "p = [[0.5, 0.2],\n",
        "     [0.2, 0.05]]\n",
        "\n",
        "np.random.seed(1)\n",
        "G = sbm(n=n, p=p)\n",
        "from graspy.plot import heatmap\n",
        "heatmap(G, title = 'SBM Simulation')\n",
        "from numpy.random import normal, poisson\n",
        "\n",
        "wt = [[normal, poisson],\n",
        "      [poisson, normal]]\n",
        "wtargs = [[dict(loc=3, scale=1), dict(lam=5)],\n",
        "          [dict(lam=5), dict(loc=3,scale=1)]]\n",
        "\n",
        "G = sbm(n=n, p=p, wt=wt, wtargs=wtargs)\n",
        "heatmap(G, title= 'Weighted SBM Simulation')\n"
      ],
      "outputs": [],
      "execution_count": null
    }
  ],
  "metadata": {
    "anaconda-cloud": {},
    "kernelspec": {
      "display_name": "Python 3",
      "language": "python",
      "name": "python3"
    },
    "language_info": {
      "codemirror_mode": {
        "name": "ipython",
        "version": 3
      },
      "file_extension": ".py",
      "mimetype": "text/x-python",
      "name": "python",
      "nbconvert_exporter": "python",
      "pygments_lexer": "ipython3",
      "version": "3.6.1"
    }
  },
  "nbformat": 4,
  "nbformat_minor": 1
}
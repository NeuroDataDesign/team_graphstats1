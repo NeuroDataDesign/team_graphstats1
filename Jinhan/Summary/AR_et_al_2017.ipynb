{
  "nbformat": 4,
  "nbformat_minor": 0,
  "metadata": {
    "colab": {
      "name": "AR et al. 2017.ipynb",
      "provenance": [],
      "collapsed_sections": []
    },
    "kernelspec": {
      "name": "python3",
      "display_name": "Python 3"
    }
  },
  "cells": [
    {
      "cell_type": "markdown",
      "metadata": {
        "id": "z5fXceAZkae1",
        "colab_type": "text"
      },
      "source": [
        "# Network Classification with Applications to Brain Connectomics - [(Link)](https://arxiv.org/abs/1701.08140)\n",
        "\n",
        "Author: Jesús D. Arroyo-Relión, Daniel Kessler, Elizaveta Levina, Stephan F. Taylor (2017)\n",
        "\n",
        "## Abstract\n",
        "**Goal**\n",
        "    \n",
        "- Classify networks with labeled nodes\n",
        "- Use both **(1)** the individual edge information and **(2)** the network structure\n",
        "- (Application) Distinguish between various brain disorders\n",
        "    - Should have different connectivity patterns\n",
        "\n",
        "**Method**\n",
        "\n",
        "1. Use edge weights as predictor\n",
        "2. Encode network structure by using penalties\n",
        "\n",
        "## 1. Introduction\n",
        "\n",
        "**Data:**\n",
        "- Resting-state fMRI data\n",
        "- Averaged along the time dimension\n",
        "- Schizophrenic patients vs Healthy controls\n",
        "    - COBRE (Aine et al. 2017) + UMich data (internally)\n",
        "- 264 ROIs --> 14 subsystem\n",
        "\n",
        "**Method and Analysis**\n",
        "- Connectivity measurement: rank-transformed and standardized marginal correlations. <span style=\"color:red\">**(?)**</span>\n",
        "- Penalize #nodes and #edges --> promote sparsity and preserve the network structure \n",
        "\n",
        "**Background Methods**\n",
        "\n",
        "(large-scale classification)\n",
        "1. Average the network's parameter (degree, path length etc.)\n",
        "2. \"Vectorizing the unique elements of the adjacency matrix\" <span style=\"color:red\">**(?)**</span>\n",
        "\n",
        "## 2. The classifier and penalties\n",
        "\n",
        "### 2.1\n",
        "- Network = undirected graph = adjacency matrix\n",
        "    \n",
        "    $$A\\in\\mathbb{R}^{N\\times N}$$\n",
        "\n",
        "- Binary classification in this paper\n",
        "\n",
        "- Linear classifier\n",
        "\n",
        "     $$\\langle A,B\\rangle$$\n",
        "\n",
        "     where $B\\in\\mathbb{R}^{N\\times N}$ \"emphasize the network nature of the predictors\" <span style=\"color:red\">**(?)**</span> as the result of training\n",
        "\n",
        "- Loss function: logistic loss function: $$\\tilde{\\ell}\\left(Y_{k}, A^{(k)} ; B, b\\right)=\\log \\left\\{1+\\exp \\left(-Y_{k}\\left\\langle A^{(k)}, B\\right\\rangle+ b\\right)\\right\\}$$\n",
        "\n",
        "### 2.2\n",
        "- Group lasso penalty: All edges connected to a node as a group; eliminate group --> promote sparsity <span style=\"color:red\">**(lp-norm?)**</span>\n",
        "\n",
        "- Penalty that discourages both activated (densely connected) edges and nodes by $$\\Omega_{\\lambda, \\rho}(B)=\\lambda\\left(\\sum_{i=1}^{N}\\left\\|B_{(i)}\\right\\|_{2}+\\rho\\|B\\|_{1}\\right)$$ where $B_{(i)}$ is the i-th row or column in $B$ and represents the activated i-th node; $\\rho\\|B\\|_{1}$ promotes the in-group sparsity."
      ]
    }
  ]
}